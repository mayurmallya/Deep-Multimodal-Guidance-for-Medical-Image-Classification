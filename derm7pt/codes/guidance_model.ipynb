{
 "cells": [
  {
   "cell_type": "code",
   "execution_count": null,
   "id": "1aafacb9",
   "metadata": {},
   "outputs": [],
   "source": [
    "import os\n",
    "import numpy as np\n",
    "import matplotlib.pyplot as plt\n",
    "\n",
    "import tensorflow as tf\n",
    "from tensorflow.keras import layers, Model, optimizers, models"
   ]
  },
  {
   "cell_type": "code",
   "execution_count": null,
   "id": "4e005d04",
   "metadata": {},
   "outputs": [],
   "source": [
    "data_path = '/path/to/the/features/folder/'"
   ]
  },
  {
   "cell_type": "code",
   "execution_count": null,
   "id": "32ad4498",
   "metadata": {},
   "outputs": [],
   "source": [
    "x_train = np.load(os.path.join(data_path, 'features_univ_clinic_train.npy'))\n",
    "x_val = np.load(os.path.join(data_path, 'features_univ_clinic_val.npy'))\n",
    "x_test = np.load(os.path.join(data_path, 'features_univ_clinic_test.npy'))\n",
    "\n",
    "y_train = np.load(os.path.join(data_path, 'features_univ_derm_train.npy'))\n",
    "y_val = np.load(os.path.join(data_path, 'features_univ_derm_val.npy'))\n",
    "y_test = np.load(os.path.join(data_path, 'features_univ_derm_test.npy'))"
   ]
  },
  {
   "cell_type": "code",
   "execution_count": null,
   "id": "d56a207c",
   "metadata": {},
   "outputs": [],
   "source": [
    "def plot_loss(m, title):\n",
    "    plt.plot(m.history['loss'])\n",
    "    plt.plot(m.history['val_loss'])\n",
    "    plt.title(title)\n",
    "    plt.ylabel('loss')\n",
    "    plt.xlabel('epoch')\n",
    "    plt.legend(['train', 'validation'], loc='upper right')\n",
    "    plt.grid()\n",
    "    plt.show()"
   ]
  },
  {
   "cell_type": "code",
   "execution_count": null,
   "id": "a8e0fa93",
   "metadata": {},
   "outputs": [],
   "source": [
    "def original_mmse(clinical, derm):\n",
    "    error = clinical-derm\n",
    "    sq_error = np.power(error,2)\n",
    "    mse = sq_error.mean(axis=1)\n",
    "    mmse = mse.mean()\n",
    "    return mmse"
   ]
  },
  {
   "cell_type": "code",
   "execution_count": null,
   "id": "66ce0780",
   "metadata": {},
   "outputs": [],
   "source": [
    "tf.config.list_physical_devices('GPU')"
   ]
  },
  {
   "cell_type": "code",
   "execution_count": null,
   "id": "212f32eb",
   "metadata": {},
   "outputs": [],
   "source": []
  },
  {
   "cell_type": "code",
   "execution_count": null,
   "id": "546abb4f",
   "metadata": {},
   "outputs": [],
   "source": []
  },
  {
   "cell_type": "code",
   "execution_count": null,
   "id": "6991f001",
   "metadata": {},
   "outputs": [],
   "source": [
    "input_layer = layers.Input(shape=(2048,), name='clinic_input')\n",
    "fcn1 = layers.Dense(1024, activation='relu', name='fcn1')(input_layer)\n",
    "d1 = layers.Dropout(0.25)(fcn1)\n",
    "fcn2 = layers.Dense(512, activation='relu', name='fcn2')(d1)\n",
    "d2 = layers.Dropout(0.25)(fcn2)\n",
    "fcn3 = layers.Dense(512, activation='relu', name='fcn3')(d2)\n",
    "d3 = layers.Dropout(0.25)(fcn3)\n",
    "fcn4 = layers.Dense(1024, activation='relu', name='fcn4')(d3)\n",
    "d4 = layers.Dropout(0.25)(fcn4)\n",
    "output_layer = layers.Dense(2048, activation='relu', name='output')(d4)\n",
    "\n",
    "modelx = Model(inputs=input_layer, outputs=output_layer, name='guidance')\n",
    "\n",
    "sgd = optimizers.SGD(learning_rate=0.5, decay=1e-6, momentum=0.9, nesterov=True)\n",
    "modelx.compile(loss='mse', optimizer=sgd)\n",
    "print(modelx.summary())"
   ]
  },
  {
   "cell_type": "code",
   "execution_count": null,
   "id": "7335f574",
   "metadata": {},
   "outputs": [],
   "source": [
    "m = modelx.fit(x_train, y_train, batch_size=100, epochs=500, validation_data=(x_val, y_val), verbose=0)"
   ]
  },
  {
   "cell_type": "code",
   "execution_count": null,
   "id": "da260e36",
   "metadata": {},
   "outputs": [],
   "source": [
    "plot_loss(m, 'model')"
   ]
  },
  {
   "cell_type": "code",
   "execution_count": null,
   "id": "2cf69ad7",
   "metadata": {},
   "outputs": [],
   "source": [
    "test_loss = modelx.evaluate(x_test, y_test, batch_size=50, verbose=0)"
   ]
  },
  {
   "cell_type": "code",
   "execution_count": null,
   "id": "632f6022",
   "metadata": {},
   "outputs": [],
   "source": [
    "save_path = '/path/to/guidance/model'\n",
    "modelx.save(save_path)"
   ]
  },
  {
   "cell_type": "code",
   "execution_count": null,
   "id": "f6a5c63a",
   "metadata": {},
   "outputs": [],
   "source": []
  },
  {
   "cell_type": "code",
   "execution_count": null,
   "id": "fa5f8b94",
   "metadata": {},
   "outputs": [],
   "source": []
  }
 ],
 "metadata": {
  "kernelspec": {
   "display_name": "Python 3",
   "language": "python",
   "name": "python3"
  },
  "language_info": {
   "codemirror_mode": {
    "name": "ipython",
    "version": 3
   },
   "file_extension": ".py",
   "mimetype": "text/x-python",
   "name": "python",
   "nbconvert_exporter": "python",
   "pygments_lexer": "ipython3",
   "version": "3.7.10"
  }
 },
 "nbformat": 4,
 "nbformat_minor": 5
}
