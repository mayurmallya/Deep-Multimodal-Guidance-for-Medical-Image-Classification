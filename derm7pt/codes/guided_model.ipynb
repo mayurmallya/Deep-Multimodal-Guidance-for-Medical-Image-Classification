{
 "cells": [
  {
   "cell_type": "code",
   "execution_count": null,
   "id": "725ddb8a",
   "metadata": {},
   "outputs": [],
   "source": [
    "import os\n",
    "import numpy as np\n",
    "import pandas as pd\n",
    "from PIL import Image\n",
    "import matplotlib.pyplot as plt\n",
    "from sklearn.utils import class_weight\n",
    "from sklearn import metrics\n",
    "\n",
    "import tensorflow as tf\n",
    "from tensorflow.keras.models import load_model\n",
    "from tensorflow.keras.preprocessing import image\n",
    "from tensorflow.keras.applications import inception_v3\n",
    "from tensorflow.keras import losses, layers, Model, optimizers\n",
    "from tensorflow.keras import backend as K"
   ]
  },
  {
   "cell_type": "code",
   "execution_count": null,
   "id": "239bcf08",
   "metadata": {},
   "outputs": [],
   "source": [
    "tf.config.list_physical_devices('GPU')"
   ]
  },
  {
   "cell_type": "code",
   "execution_count": null,
   "id": "9c959409",
   "metadata": {},
   "outputs": [],
   "source": [
    "tensors = '/path/to/the/features/folder'"
   ]
  },
  {
   "cell_type": "code",
   "execution_count": null,
   "id": "da5cd5b8",
   "metadata": {},
   "outputs": [],
   "source": [
    "clinical_train_features = np.load(os.path.join(tensors, 'features_univ_clinic_train.npy'))\n",
    "clinical_val_features = np.load(os.path.join(tensors, 'features_univ_clinic_val.npy'))\n",
    "clinical_test_features = np.load(os.path.join(tensors, 'features_univ_clinic_test.npy'))\n",
    "\n",
    "print(clinical_train_features.shape, clinical_val_features.shape, clinical_test_features.shape)"
   ]
  },
  {
   "cell_type": "code",
   "execution_count": null,
   "id": "f8cecffb",
   "metadata": {},
   "outputs": [],
   "source": [
    "guided_clinical_train_features = np.load(os.path.join(tensors, 'features_clinic_guided_train.npy'))\n",
    "guided_clinical_val_features = np.load(os.path.join(tensors, 'features_clinic_guided_val.npy'))\n",
    "guided_clinical_test_features = np.load(os.path.join(tensors, 'features_clinic_guided_test.npy'))\n",
    "\n",
    "print(guided_clinical_train_features.shape, guided_clinical_val_features.shape, guided_clinical_test_features.shape)"
   ]
  },
  {
   "cell_type": "code",
   "execution_count": null,
   "id": "848da390",
   "metadata": {},
   "outputs": [],
   "source": []
  },
  {
   "cell_type": "code",
   "execution_count": null,
   "id": "e2b870fd",
   "metadata": {},
   "outputs": [],
   "source": [
    "train_labels = pd.read_csv('/path/to/label/folder/train_data_new.csv')\n",
    "val_labels = pd.read_csv('/path/to/label/folder/val_data_new.csv')\n",
    "test_labels = pd.read_csv('/path/to/label/folder/test_data_new.csv')"
   ]
  },
  {
   "cell_type": "code",
   "execution_count": null,
   "id": "2f809cae",
   "metadata": {},
   "outputs": [],
   "source": [
    "label_dict_diagnosis = {'BCC':0, 'NEV':1, 'MEL':2, 'MISC':3, 'SK':4}\n",
    "label_dict_pn = {'ABS':0, 'TYP':1, 'ATP':2}\n",
    "label_dict_bwv = {'ABS':0, 'PRS':1}\n",
    "label_dict_vs = {'ABS':0, 'REG':1, 'IR':2}\n",
    "label_dict_pig = {'ABS':0, 'REG':1, 'IR':2}\n",
    "label_dict_str = {'ABS':0, 'REG':1, 'IR':2}\n",
    "label_dict_dag = {'ABS':0, 'REG':1, 'IR':2}\n",
    "label_dict_rs = {'ABS':0, 'PRS':1}"
   ]
  },
  {
   "cell_type": "code",
   "execution_count": null,
   "id": "5f83b57c",
   "metadata": {},
   "outputs": [],
   "source": [
    "def get_trainvaltest_labels(task, label_dict, train_labels, val_labels, test_labels):\n",
    "    y_train = []\n",
    "    for label in train_labels[task].tolist():\n",
    "        y_train.append(label_dict[label])\n",
    "\n",
    "    y_val = []\n",
    "    for label in val_labels[task].tolist():\n",
    "        y_val.append(label_dict[label])\n",
    "\n",
    "    y_test = []\n",
    "    for label in test_labels[task].tolist():\n",
    "        y_test.append(label_dict[label])\n",
    "        \n",
    "    return np.array(y_train), np.array(y_val), np.array(y_test)"
   ]
  },
  {
   "cell_type": "code",
   "execution_count": null,
   "id": "b1ffdbc8",
   "metadata": {},
   "outputs": [],
   "source": [
    "y_train_diagnosis, y_val_diagnosis, y_test_diagnosis = get_trainvaltest_labels('diagnosis', label_dict_diagnosis,\n",
    "                                                                              train_labels, val_labels, test_labels)\n",
    "y_train_pn, y_val_pn, y_test_pn = get_trainvaltest_labels('pigment_network', label_dict_pn, \n",
    "                                                          train_labels, val_labels, test_labels)\n",
    "y_train_bwv, y_val_bwv, y_test_bwv = get_trainvaltest_labels('blue_whitish_veil', label_dict_bwv, \n",
    "                                                             train_labels, val_labels, test_labels)\n",
    "y_train_vs, y_val_vs, y_test_vs = get_trainvaltest_labels('vascular_structures', label_dict_vs, \n",
    "                                                          train_labels, val_labels, test_labels)\n",
    "y_train_pig, y_val_pig, y_test_pig = get_trainvaltest_labels('pigmentation', label_dict_pig,\n",
    "                                                             train_labels, val_labels, test_labels)\n",
    "y_train_str, y_val_str, y_test_str = get_trainvaltest_labels('streaks', label_dict_str, \n",
    "                                                             train_labels, val_labels, test_labels)\n",
    "y_train_dag, y_val_dag, y_test_dag = get_trainvaltest_labels('dots_and_globules', label_dict_dag,\n",
    "                                                                              train_labels, val_labels, test_labels)\n",
    "y_train_rs, y_val_rs, y_test_rs = get_trainvaltest_labels('regression_structures', label_dict_rs, \n",
    "                                                          train_labels, val_labels, test_labels)"
   ]
  },
  {
   "cell_type": "code",
   "execution_count": null,
   "id": "1eb02b88",
   "metadata": {},
   "outputs": [],
   "source": [
    "class_weights_diagnosis = class_weight.compute_class_weight('balanced', classes=np.unique(y_train_diagnosis), y=y_train_diagnosis)\n",
    "class_weights_diagnosis_dict = dict(enumerate(class_weights_diagnosis))\n",
    "print('diagnosis:', class_weights_diagnosis_dict)\n",
    "\n",
    "class_weights_pn = class_weight.compute_class_weight('balanced', classes=np.unique(y_train_pn), y=y_train_pn)\n",
    "class_weights_pn_dict = dict(enumerate(class_weights_pn))\n",
    "print('pn:', class_weights_pn_dict)\n",
    "\n",
    "class_weights_bwv = class_weight.compute_class_weight('balanced', classes=np.unique(y_train_bwv), y=y_train_bwv)\n",
    "class_weights_bwv_dict = dict(enumerate(class_weights_bwv))\n",
    "print('bwv:', class_weights_bwv_dict)\n",
    "\n",
    "class_weights_vs = class_weight.compute_class_weight('balanced', classes=np.unique(y_train_vs), y=y_train_vs)\n",
    "class_weights_vs_dict = dict(enumerate(class_weights_vs))\n",
    "print('vs:', class_weights_vs_dict)\n",
    "\n",
    "class_weights_pig = class_weight.compute_class_weight('balanced', classes=np.unique(y_train_pig), y=y_train_pig)\n",
    "class_weights_pig_dict = dict(enumerate(class_weights_pig))\n",
    "print('pig:', class_weights_pig_dict)\n",
    "\n",
    "class_weights_str = class_weight.compute_class_weight('balanced', classes=np.unique(y_train_str), y=y_train_str)\n",
    "class_weights_str_dict = dict(enumerate(class_weights_str))\n",
    "print('str:', class_weights_str_dict)\n",
    "\n",
    "class_weights_dag = class_weight.compute_class_weight('balanced', classes=np.unique(y_train_dag), y=y_train_dag)\n",
    "class_weights_dag_dict = dict(enumerate(class_weights_dag))\n",
    "print('dag:', class_weights_dag_dict)\n",
    "\n",
    "class_weights_rs = class_weight.compute_class_weight('balanced', classes=np.unique(y_train_rs), y=y_train_rs)\n",
    "class_weights_rs_dict = dict(enumerate(class_weights_rs))\n",
    "print('rs:', class_weights_rs_dict)"
   ]
  },
  {
   "cell_type": "code",
   "execution_count": null,
   "id": "2a42f3d9",
   "metadata": {},
   "outputs": [],
   "source": []
  },
  {
   "cell_type": "code",
   "execution_count": null,
   "id": "206cd866",
   "metadata": {},
   "outputs": [],
   "source": []
  },
  {
   "cell_type": "code",
   "execution_count": null,
   "id": "f99df71f",
   "metadata": {},
   "outputs": [],
   "source": [
    "# Concatenation\n",
    "\n",
    "x_train = np.concatenate((clinical_train_features, guided_clinical_train_features), axis=1)\n",
    "x_val = np.concatenate((clinical_val_features, guided_clinical_val_features), axis=1)\n",
    "x_test = np.concatenate((clinical_test_features, guided_clinical_test_features), axis=1)\n",
    "\n",
    "print(x_train.shape, x_val.shape, x_test.shape)"
   ]
  },
  {
   "cell_type": "code",
   "execution_count": null,
   "id": "c9eab2a3",
   "metadata": {},
   "outputs": [],
   "source": []
  },
  {
   "cell_type": "code",
   "execution_count": null,
   "id": "2816d670",
   "metadata": {},
   "outputs": [],
   "source": []
  },
  {
   "cell_type": "markdown",
   "id": "577ad975",
   "metadata": {},
   "source": [
    "# Diagnosis"
   ]
  },
  {
   "cell_type": "code",
   "execution_count": null,
   "id": "ad2961e4",
   "metadata": {},
   "outputs": [],
   "source": [
    "print('Diagnosis')\n",
    "\n",
    "print(x_train.shape, len(y_train_diagnosis))\n",
    "print(x_val.shape, len(y_val_diagnosis))\n",
    "print(x_test.shape, len(y_test_diagnosis))"
   ]
  },
  {
   "cell_type": "code",
   "execution_count": null,
   "id": "baf5104e",
   "metadata": {},
   "outputs": [],
   "source": [
    "# Model diagnosis\n",
    "\n",
    "input_layer = layers.Input(shape=(4096,))\n",
    "d1 = layers.Dropout(0.25)(input_layer)\n",
    "layer2 = layers.Dense(100, activation='relu', name='mid')(d1)\n",
    "d2 = layers.Dropout(0.25)(input_layer)\n",
    "output_layer = layers.Dense(5, activation='softmax', name='output')(d2)\n",
    "\n",
    "model_diagnosis = Model(inputs=input_layer, outputs=output_layer, name='model_diagnosis')\n",
    "print(model_diagnosis.summary())"
   ]
  },
  {
   "cell_type": "code",
   "execution_count": null,
   "id": "eea85093",
   "metadata": {},
   "outputs": [],
   "source": [
    "sgd = optimizers.SGD(learning_rate=0.0001, decay=1e-6, momentum=0.9, nesterov=True)\n",
    "scce = losses.SparseCategoricalCrossentropy()\n",
    "model_diagnosis.compile(loss=scce, optimizer=sgd)\n",
    "\n",
    "earlystopping = tf.keras.callbacks.EarlyStopping(patience=200, restore_best_weights=True)"
   ]
  },
  {
   "cell_type": "code",
   "execution_count": null,
   "id": "8a23ce71",
   "metadata": {},
   "outputs": [],
   "source": [
    "m = model_diagnosis.fit(x_train, y_train_diagnosis, batch_size=100, epochs=500, \n",
    "                        validation_data=(x_val, y_val_diagnosis), verbose=0,\n",
    "                        class_weight = class_weights_diagnosis_dict,\n",
    "                        callbacks=[earlystopping])"
   ]
  },
  {
   "cell_type": "code",
   "execution_count": null,
   "id": "fcd7b7d6",
   "metadata": {},
   "outputs": [],
   "source": [
    "plt.plot(m.history['loss'])\n",
    "plt.plot(m.history['val_loss'])\n",
    "plt.title('title')\n",
    "plt.ylabel('loss')\n",
    "plt.xlabel('epoch')\n",
    "plt.legend(['train', 'validation'], loc='upper right')\n",
    "plt.grid()\n",
    "plt.show()"
   ]
  },
  {
   "cell_type": "code",
   "execution_count": null,
   "id": "c6033aa5",
   "metadata": {},
   "outputs": [],
   "source": [
    "preds_diagnosis=np.argmax(model_diagnosis.predict(x_test), axis=1)\n",
    "balacc_diagnosis = metrics.balanced_accuracy_score(y_test_diagnosis, preds_diagnosis)"
   ]
  },
  {
   "cell_type": "code",
   "execution_count": null,
   "id": "a5c6268e",
   "metadata": {},
   "outputs": [],
   "source": []
  },
  {
   "cell_type": "markdown",
   "id": "3b2284c4",
   "metadata": {},
   "source": [
    "# Pigment Network"
   ]
  },
  {
   "cell_type": "code",
   "execution_count": null,
   "id": "4daeec10",
   "metadata": {},
   "outputs": [],
   "source": [
    "# Model pn\n",
    "\n",
    "input_layer = layers.Input(shape=(4096,))\n",
    "d1 = layers.Dropout(0.25)(input_layer)\n",
    "layer2 = layers.Dense(100, activation='relu', name='mid')(d1)\n",
    "d2 = layers.Dropout(0.25)(input_layer)\n",
    "output_layer = layers.Dense(5, activation='softmax', name='output')(d2)\n",
    "\n",
    "model_pn = Model(inputs=input_layer, outputs=output_layer, name='model_pn')\n",
    "print(model_pn.summary())"
   ]
  },
  {
   "cell_type": "code",
   "execution_count": null,
   "id": "967263e2",
   "metadata": {},
   "outputs": [],
   "source": [
    "sgd = optimizers.SGD(learning_rate=0.0001, decay=1e-6, momentum=0.9, nesterov=True)\n",
    "scce = losses.SparseCategoricalCrossentropy()\n",
    "model_pn.compile(loss=scce, optimizer=sgd)\n",
    "\n",
    "earlystopping = tf.keras.callbacks.EarlyStopping(patience=200, restore_best_weights=True)"
   ]
  },
  {
   "cell_type": "code",
   "execution_count": null,
   "id": "55c19706",
   "metadata": {},
   "outputs": [],
   "source": [
    "m = model_pn.fit(x_train, y_train_pn, batch_size=100, epochs=500, \n",
    "                        validation_data=(x_val, y_val_pn), verbose=0,\n",
    "                        class_weight = class_weights_pn_dict,\n",
    "                        callbacks=[earlystopping])"
   ]
  },
  {
   "cell_type": "code",
   "execution_count": null,
   "id": "95f4693a",
   "metadata": {},
   "outputs": [],
   "source": [
    "plt.plot(m.history['loss'])\n",
    "plt.plot(m.history['val_loss'])\n",
    "plt.title('title')\n",
    "plt.ylabel('loss')\n",
    "plt.xlabel('epoch')\n",
    "plt.legend(['train', 'validation'], loc='upper right')\n",
    "plt.grid()\n",
    "plt.show()"
   ]
  },
  {
   "cell_type": "code",
   "execution_count": null,
   "id": "62830103",
   "metadata": {},
   "outputs": [],
   "source": [
    "preds_pn = np.argmax(model_pn.predict(x_test), axis=1)\n",
    "balacc_pn = metrics.balanced_accuracy_score(y_test_pn, preds_pn)"
   ]
  },
  {
   "cell_type": "code",
   "execution_count": null,
   "id": "6fcb4f52",
   "metadata": {},
   "outputs": [],
   "source": []
  },
  {
   "cell_type": "markdown",
   "id": "ab1101de",
   "metadata": {},
   "source": [
    "# Blue Whitish Veil"
   ]
  },
  {
   "cell_type": "code",
   "execution_count": null,
   "id": "6e34ff82",
   "metadata": {},
   "outputs": [],
   "source": [
    "input_layer = layers.Input(shape=(4096,))\n",
    "d1 = layers.Dropout(0.25)(input_layer)\n",
    "layer2 = layers.Dense(100, activation='relu', name='mid')(d1)\n",
    "d2 = layers.Dropout(0.25)(input_layer)\n",
    "output_layer = layers.Dense(5, activation='softmax', name='output')(d2)\n",
    "\n",
    "model_bwv = Model(inputs=input_layer, outputs=output_layer, name='model_bwv')\n",
    "print(model_bwv.summary())"
   ]
  },
  {
   "cell_type": "code",
   "execution_count": null,
   "id": "a7cb1dce",
   "metadata": {},
   "outputs": [],
   "source": [
    "sgd = optimizers.SGD(learning_rate=0.0001, decay=1e-6, momentum=0.9, nesterov=True)\n",
    "scce = losses.SparseCategoricalCrossentropy()\n",
    "model_bwv.compile(loss=scce, optimizer=sgd)\n",
    "\n",
    "earlystopping = tf.keras.callbacks.EarlyStopping(patience=200, restore_best_weights=True)"
   ]
  },
  {
   "cell_type": "code",
   "execution_count": null,
   "id": "b7fb9b4c",
   "metadata": {},
   "outputs": [],
   "source": [
    "m = model_bwv.fit(x_train, y_train_bwv, batch_size=100, epochs=500, \n",
    "                        validation_data=(x_val, y_val_bwv), verbose=0,\n",
    "                        class_weight = class_weights_bwv_dict,\n",
    "                        callbacks=[earlystopping])"
   ]
  },
  {
   "cell_type": "code",
   "execution_count": null,
   "id": "bc2196c9",
   "metadata": {},
   "outputs": [],
   "source": [
    "plt.plot(m.history['loss'])\n",
    "plt.plot(m.history['val_loss'])\n",
    "plt.title('title')\n",
    "plt.ylabel('loss')\n",
    "plt.xlabel('epoch')\n",
    "plt.legend(['train', 'validation'], loc='upper right')\n",
    "plt.grid()\n",
    "plt.show()"
   ]
  },
  {
   "cell_type": "code",
   "execution_count": null,
   "id": "a8474294",
   "metadata": {},
   "outputs": [],
   "source": [
    "preds_bwv = np.argmax(model_bwv.predict(x_test), axis=1)\n",
    "balacc_bwv = metrics.balanced_accuracy_score(y_test_bwv, preds_bwv)"
   ]
  },
  {
   "cell_type": "code",
   "execution_count": null,
   "id": "53034084",
   "metadata": {},
   "outputs": [],
   "source": []
  },
  {
   "cell_type": "markdown",
   "id": "ae592047",
   "metadata": {},
   "source": [
    "# Vascular Structures"
   ]
  },
  {
   "cell_type": "code",
   "execution_count": null,
   "id": "8aed04f9",
   "metadata": {},
   "outputs": [],
   "source": [
    "input_layer = layers.Input(shape=(4096,))\n",
    "d1 = layers.Dropout(0.25)(input_layer)\n",
    "layer2 = layers.Dense(100, activation='relu', name='mid')(d1)\n",
    "d2 = layers.Dropout(0.25)(input_layer)\n",
    "output_layer = layers.Dense(5, activation='softmax', name='output')(d2)\n",
    "\n",
    "model_vs = Model(inputs=input_layer, outputs=output_layer, name='model_vs')\n",
    "print(model_vs.summary())"
   ]
  },
  {
   "cell_type": "code",
   "execution_count": null,
   "id": "7709b379",
   "metadata": {},
   "outputs": [],
   "source": [
    "sgd = optimizers.SGD(learning_rate=0.001, decay=1e-6, momentum=0.9, nesterov=True)\n",
    "scce = losses.SparseCategoricalCrossentropy()\n",
    "model_vs.compile(loss=scce, optimizer=sgd)\n",
    "\n",
    "earlystopping = tf.keras.callbacks.EarlyStopping(patience=200, restore_best_weights=True)"
   ]
  },
  {
   "cell_type": "code",
   "execution_count": null,
   "id": "537f3a8d",
   "metadata": {},
   "outputs": [],
   "source": [
    "m = model_vs.fit(x_train, y_train_vs, batch_size=100, epochs=500, \n",
    "                        validation_data=(x_val, y_val_vs), verbose=0,\n",
    "                        class_weight = class_weights_vs_dict,\n",
    "                        callbacks=[earlystopping])"
   ]
  },
  {
   "cell_type": "code",
   "execution_count": null,
   "id": "be318199",
   "metadata": {},
   "outputs": [],
   "source": [
    "plt.plot(m.history['loss'])\n",
    "plt.plot(m.history['val_loss'])\n",
    "plt.title('title')\n",
    "plt.ylabel('loss')\n",
    "plt.xlabel('epoch')\n",
    "plt.legend(['train', 'validation'], loc='upper right')\n",
    "plt.grid()\n",
    "plt.show()"
   ]
  },
  {
   "cell_type": "code",
   "execution_count": null,
   "id": "d25f7f12",
   "metadata": {},
   "outputs": [],
   "source": [
    "preds_vs=np.argmax(model_vs.predict(x_test), axis=1)\n",
    "balacc_vs = metrics.balanced_accuracy_score(y_test_vs, preds_vs)"
   ]
  },
  {
   "cell_type": "code",
   "execution_count": null,
   "id": "ca3f9663",
   "metadata": {},
   "outputs": [],
   "source": []
  },
  {
   "cell_type": "markdown",
   "id": "a395fee0",
   "metadata": {},
   "source": [
    "# Pigmentation"
   ]
  },
  {
   "cell_type": "code",
   "execution_count": null,
   "id": "5cc094ee",
   "metadata": {},
   "outputs": [],
   "source": [
    "input_layer = layers.Input(shape=(4096,))\n",
    "d1 = layers.Dropout(0.25)(input_layer)\n",
    "layer2 = layers.Dense(100, activation='relu', name='mid')(d1)\n",
    "d2 = layers.Dropout(0.25)(input_layer)\n",
    "output_layer = layers.Dense(5, activation='softmax', name='output')(d2)\n",
    "\n",
    "model_pig = Model(inputs=input_layer, outputs=output_layer, name='model_pig')\n",
    "print(model_pig.summary())"
   ]
  },
  {
   "cell_type": "code",
   "execution_count": null,
   "id": "f9a8d9c3",
   "metadata": {},
   "outputs": [],
   "source": [
    "sgd = optimizers.SGD(learning_rate=0.0001, decay=1e-6, momentum=0.9, nesterov=True)\n",
    "scce = losses.SparseCategoricalCrossentropy()\n",
    "model_pig.compile(loss=scce, optimizer=sgd)\n",
    "\n",
    "earlystopping = tf.keras.callbacks.EarlyStopping(patience=200, restore_best_weights=True)"
   ]
  },
  {
   "cell_type": "code",
   "execution_count": null,
   "id": "bfa4dc24",
   "metadata": {},
   "outputs": [],
   "source": [
    "m = model_pig.fit(x_train, y_train_pig, batch_size=100, epochs=500, \n",
    "                        validation_data=(x_val, y_val_pig), verbose=0,\n",
    "                        class_weight = class_weights_pig_dict,\n",
    "                        callbacks=[earlystopping])"
   ]
  },
  {
   "cell_type": "code",
   "execution_count": null,
   "id": "f0349d7d",
   "metadata": {},
   "outputs": [],
   "source": [
    "plt.plot(m.history['loss'])\n",
    "plt.plot(m.history['val_loss'])\n",
    "plt.title('title')\n",
    "plt.ylabel('loss')\n",
    "plt.xlabel('epoch')\n",
    "plt.legend(['train', 'validation'], loc='upper right')\n",
    "plt.grid()\n",
    "plt.show()"
   ]
  },
  {
   "cell_type": "code",
   "execution_count": null,
   "id": "9babc247",
   "metadata": {},
   "outputs": [],
   "source": [
    "preds_pig = np.argmax(model_pig.predict(x_test), axis=1)\n",
    "balacc_pig = metrics.balanced_accuracy_score(y_test_pig, preds_pig)"
   ]
  },
  {
   "cell_type": "code",
   "execution_count": null,
   "id": "980bbb8f",
   "metadata": {},
   "outputs": [],
   "source": []
  },
  {
   "cell_type": "markdown",
   "id": "c7d9e77f",
   "metadata": {},
   "source": [
    "# Streaks"
   ]
  },
  {
   "cell_type": "code",
   "execution_count": null,
   "id": "fb8fbbcc",
   "metadata": {},
   "outputs": [],
   "source": [
    "input_layer = layers.Input(shape=(4096,))\n",
    "d1 = layers.Dropout(0.25)(input_layer)\n",
    "layer2 = layers.Dense(100, activation='relu', name='mid')(d1)\n",
    "d2 = layers.Dropout(0.25)(input_layer)\n",
    "output_layer = layers.Dense(5, activation='softmax', name='output')(d2)\n",
    "\n",
    "model_str = Model(inputs=input_layer, outputs=output_layer, name='model_str')\n",
    "print(model_str.summary())"
   ]
  },
  {
   "cell_type": "code",
   "execution_count": null,
   "id": "8e20ed3c",
   "metadata": {},
   "outputs": [],
   "source": [
    "sgd = optimizers.SGD(learning_rate=0.0005, decay=1e-6, momentum=0.9, nesterov=True)\n",
    "scce = losses.SparseCategoricalCrossentropy()\n",
    "model_str.compile(loss=scce, optimizer=sgd)\n",
    "\n",
    "earlystopping = tf.keras.callbacks.EarlyStopping(patience=300, restore_best_weights=True)"
   ]
  },
  {
   "cell_type": "code",
   "execution_count": null,
   "id": "c885b245",
   "metadata": {},
   "outputs": [],
   "source": [
    "m = model_str.fit(x_train, y_train_str, batch_size=100, epochs=1000, \n",
    "                        validation_data=(x_val, y_val_str), verbose=0,\n",
    "                        class_weight = class_weights_str_dict,\n",
    "                        callbacks=[earlystopping])"
   ]
  },
  {
   "cell_type": "code",
   "execution_count": null,
   "id": "d12d0cfb",
   "metadata": {},
   "outputs": [],
   "source": [
    "plt.plot(m.history['loss'])\n",
    "plt.plot(m.history['val_loss'])\n",
    "plt.title('title')\n",
    "plt.ylabel('loss')\n",
    "plt.xlabel('epoch')\n",
    "plt.legend(['train', 'validation'], loc='upper right')\n",
    "plt.grid()\n",
    "plt.show()"
   ]
  },
  {
   "cell_type": "code",
   "execution_count": null,
   "id": "92916379",
   "metadata": {},
   "outputs": [],
   "source": [
    "preds_str = np.argmax(model_str.predict(x_test), axis=1)\n",
    "balacc_str = metrics.balanced_accuracy_score(y_test_str, preds_str)"
   ]
  },
  {
   "cell_type": "code",
   "execution_count": null,
   "id": "a31704dc",
   "metadata": {},
   "outputs": [],
   "source": []
  },
  {
   "cell_type": "markdown",
   "id": "d4c23929",
   "metadata": {},
   "source": [
    "# Dots and Globules"
   ]
  },
  {
   "cell_type": "code",
   "execution_count": null,
   "id": "dfb20f90",
   "metadata": {},
   "outputs": [],
   "source": [
    "input_layer = layers.Input(shape=(4096,))\n",
    "d1 = layers.Dropout(0.25)(input_layer)\n",
    "layer2 = layers.Dense(100, activation='relu', name='mid')(d1)\n",
    "d2 = layers.Dropout(0.25)(input_layer)\n",
    "output_layer = layers.Dense(5, activation='softmax', name='output')(d2)\n",
    "\n",
    "model_dag = Model(inputs=input_layer, outputs=output_layer, name='model_dag')\n",
    "print(model_dag.summary())"
   ]
  },
  {
   "cell_type": "code",
   "execution_count": null,
   "id": "063a613b",
   "metadata": {},
   "outputs": [],
   "source": [
    "sgd = optimizers.SGD(learning_rate=0.0001, decay=1e-6, momentum=0.9, nesterov=True)\n",
    "scce = losses.SparseCategoricalCrossentropy()\n",
    "model_dag.compile(loss=scce, optimizer=sgd)\n",
    "\n",
    "earlystopping = tf.keras.callbacks.EarlyStopping(patience=200, restore_best_weights=True)"
   ]
  },
  {
   "cell_type": "code",
   "execution_count": null,
   "id": "d307bfbd",
   "metadata": {},
   "outputs": [],
   "source": [
    "m = model_dag.fit(x_train, y_train_dag, batch_size=100, epochs=500, \n",
    "                        validation_data=(x_val, y_val_dag), verbose=0,\n",
    "                        class_weight = class_weights_dag_dict,\n",
    "                        callbacks=[earlystopping])"
   ]
  },
  {
   "cell_type": "code",
   "execution_count": null,
   "id": "5e1b40f2",
   "metadata": {},
   "outputs": [],
   "source": [
    "plt.plot(m.history['loss'])\n",
    "plt.plot(m.history['val_loss'])\n",
    "plt.title('title')\n",
    "plt.ylabel('loss')\n",
    "plt.xlabel('epoch')\n",
    "plt.legend(['train', 'validation'], loc='upper right')\n",
    "plt.grid()\n",
    "plt.show()"
   ]
  },
  {
   "cell_type": "code",
   "execution_count": null,
   "id": "9955cf45",
   "metadata": {},
   "outputs": [],
   "source": [
    "preds_dag=np.argmax(model_dag.predict(x_test), axis=1)\n",
    "balacc_dag = metrics.balanced_accuracy_score(y_test_dag, preds_dag)"
   ]
  },
  {
   "cell_type": "code",
   "execution_count": null,
   "id": "5693db18",
   "metadata": {},
   "outputs": [],
   "source": []
  },
  {
   "cell_type": "markdown",
   "id": "2966e76f",
   "metadata": {},
   "source": [
    "# Regression Structures"
   ]
  },
  {
   "cell_type": "code",
   "execution_count": null,
   "id": "f7335bca",
   "metadata": {},
   "outputs": [],
   "source": [
    "input_layer = layers.Input(shape=(4096,))\n",
    "d1 = layers.Dropout(0.25)(input_layer)\n",
    "layer2 = layers.Dense(100, activation='relu', name='mid')(d1)\n",
    "d2 = layers.Dropout(0.25)(input_layer)\n",
    "output_layer = layers.Dense(5, activation='softmax', name='output')(d2)\n",
    "\n",
    "model_rs = Model(inputs=input_layer, outputs=output_layer, name='model_rs')\n",
    "print(model_rs.summary())"
   ]
  },
  {
   "cell_type": "code",
   "execution_count": null,
   "id": "87652cb1",
   "metadata": {},
   "outputs": [],
   "source": [
    "sgd = optimizers.SGD(learning_rate=0.0001, decay=1e-6, momentum=0.9, nesterov=True)\n",
    "scce = losses.SparseCategoricalCrossentropy()\n",
    "model_rs.compile(loss=scce, optimizer=sgd)\n",
    "\n",
    "earlystopping = tf.keras.callbacks.EarlyStopping(patience=200, restore_best_weights=True)"
   ]
  },
  {
   "cell_type": "code",
   "execution_count": null,
   "id": "1879752a",
   "metadata": {},
   "outputs": [],
   "source": [
    "m = model_rs.fit(x_train, y_train_rs, batch_size=100, epochs=500, \n",
    "                        validation_data=(x_val, y_val_rs), verbose=0,\n",
    "                        class_weight = class_weights_rs_dict,\n",
    "                        callbacks=[earlystopping])"
   ]
  },
  {
   "cell_type": "code",
   "execution_count": null,
   "id": "86e4b5f7",
   "metadata": {},
   "outputs": [],
   "source": [
    "plt.plot(m.history['loss'])\n",
    "plt.plot(m.history['val_loss'])\n",
    "plt.title('title')\n",
    "plt.ylabel('loss')\n",
    "plt.xlabel('epoch')\n",
    "plt.legend(['train', 'validation'], loc='upper right')\n",
    "plt.grid()\n",
    "plt.show()"
   ]
  },
  {
   "cell_type": "code",
   "execution_count": null,
   "id": "05ebaf2c",
   "metadata": {},
   "outputs": [],
   "source": [
    "preds_rs = np.argmax(model_rs.predict(x_test), axis=1)\n",
    "balacc_rs = metrics.balanced_accuracy_score(y_test_rs, preds_rs)"
   ]
  },
  {
   "cell_type": "code",
   "execution_count": null,
   "id": "a50e5348",
   "metadata": {},
   "outputs": [],
   "source": []
  },
  {
   "cell_type": "code",
   "execution_count": null,
   "id": "1326b0cc",
   "metadata": {},
   "outputs": [],
   "source": []
  },
  {
   "cell_type": "code",
   "execution_count": null,
   "id": "b83ec6b1",
   "metadata": {},
   "outputs": [],
   "source": []
  },
  {
   "cell_type": "code",
   "execution_count": null,
   "id": "e8530c5e",
   "metadata": {},
   "outputs": [],
   "source": []
  },
  {
   "cell_type": "code",
   "execution_count": null,
   "id": "8ac88394",
   "metadata": {},
   "outputs": [],
   "source": []
  },
  {
   "cell_type": "code",
   "execution_count": null,
   "id": "3b8786ac",
   "metadata": {},
   "outputs": [],
   "source": []
  },
  {
   "cell_type": "code",
   "execution_count": null,
   "id": "127af45f",
   "metadata": {},
   "outputs": [],
   "source": []
  },
  {
   "cell_type": "code",
   "execution_count": null,
   "id": "08f2322d",
   "metadata": {},
   "outputs": [],
   "source": []
  },
  {
   "cell_type": "code",
   "execution_count": null,
   "id": "1e4b7b9e",
   "metadata": {},
   "outputs": [],
   "source": []
  },
  {
   "cell_type": "code",
   "execution_count": null,
   "id": "bd3bcec5",
   "metadata": {},
   "outputs": [],
   "source": []
  },
  {
   "cell_type": "code",
   "execution_count": null,
   "id": "6e2590d5",
   "metadata": {},
   "outputs": [],
   "source": []
  },
  {
   "cell_type": "code",
   "execution_count": null,
   "id": "104660cb",
   "metadata": {},
   "outputs": [],
   "source": []
  },
  {
   "cell_type": "code",
   "execution_count": null,
   "id": "8b0d5b81",
   "metadata": {},
   "outputs": [],
   "source": []
  },
  {
   "cell_type": "code",
   "execution_count": null,
   "id": "3adc220b",
   "metadata": {},
   "outputs": [],
   "source": []
  },
  {
   "cell_type": "code",
   "execution_count": null,
   "id": "cc3ad5f2",
   "metadata": {},
   "outputs": [],
   "source": []
  },
  {
   "cell_type": "code",
   "execution_count": null,
   "id": "bbf2fc38",
   "metadata": {},
   "outputs": [],
   "source": []
  },
  {
   "cell_type": "code",
   "execution_count": null,
   "id": "bd81252e",
   "metadata": {},
   "outputs": [],
   "source": []
  },
  {
   "cell_type": "code",
   "execution_count": null,
   "id": "6fc80261",
   "metadata": {},
   "outputs": [],
   "source": []
  },
  {
   "cell_type": "code",
   "execution_count": null,
   "id": "d0bbea0c",
   "metadata": {},
   "outputs": [],
   "source": []
  },
  {
   "cell_type": "code",
   "execution_count": null,
   "id": "44282987",
   "metadata": {},
   "outputs": [],
   "source": []
  },
  {
   "cell_type": "code",
   "execution_count": null,
   "id": "92049697",
   "metadata": {},
   "outputs": [],
   "source": []
  },
  {
   "cell_type": "code",
   "execution_count": null,
   "id": "41976417",
   "metadata": {},
   "outputs": [],
   "source": []
  },
  {
   "cell_type": "code",
   "execution_count": null,
   "id": "ba7c3e46",
   "metadata": {},
   "outputs": [],
   "source": []
  },
  {
   "cell_type": "code",
   "execution_count": null,
   "id": "59498456",
   "metadata": {},
   "outputs": [],
   "source": []
  },
  {
   "cell_type": "code",
   "execution_count": null,
   "id": "bee34a7e",
   "metadata": {},
   "outputs": [],
   "source": []
  },
  {
   "cell_type": "code",
   "execution_count": null,
   "id": "62833dda",
   "metadata": {},
   "outputs": [],
   "source": []
  },
  {
   "cell_type": "code",
   "execution_count": null,
   "id": "74662180",
   "metadata": {},
   "outputs": [],
   "source": []
  },
  {
   "cell_type": "code",
   "execution_count": null,
   "id": "4365cb7f",
   "metadata": {},
   "outputs": [],
   "source": []
  }
 ],
 "metadata": {
  "kernelspec": {
   "display_name": "Python 3",
   "language": "python",
   "name": "python3"
  },
  "language_info": {
   "codemirror_mode": {
    "name": "ipython",
    "version": 3
   },
   "file_extension": ".py",
   "mimetype": "text/x-python",
   "name": "python",
   "nbconvert_exporter": "python",
   "pygments_lexer": "ipython3",
   "version": "3.7.10"
  }
 },
 "nbformat": 4,
 "nbformat_minor": 5
}
