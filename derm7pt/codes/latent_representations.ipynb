{
 "cells": [
  {
   "cell_type": "code",
   "execution_count": null,
   "id": "a41c952a",
   "metadata": {},
   "outputs": [],
   "source": [
    "import os\n",
    "import numpy as np\n",
    "import pandas as pd\n",
    "from PIL import Image\n",
    "\n",
    "import tensorflow as tf\n",
    "from tensorflow.keras.models import load_model\n",
    "from tensorflow.keras.preprocessing import image\n",
    "from tensorflow.keras.applications import inception_v3\n",
    "from tensorflow.keras import backend as K"
   ]
  },
  {
   "cell_type": "code",
   "execution_count": null,
   "id": "9c3b9d94",
   "metadata": {},
   "outputs": [],
   "source": [
    "image_dir = '/path/to/image/folder/'\n",
    "train_labels = pd.read_csv('/path/to/label/folder/train_data_new.csv')\n",
    "val_labels = pd.read_csv('/path/to/label/folder/val_data_new.csv')\n",
    "test_labels = pd.read_csv('/path/to/label/folder/test_data_new.csv')"
   ]
  },
  {
   "cell_type": "code",
   "execution_count": null,
   "id": "ee3c5350",
   "metadata": {},
   "outputs": [],
   "source": [
    "# Choose one of train val and test\n",
    "dataframe = val_labels"
   ]
  },
  {
   "cell_type": "code",
   "execution_count": null,
   "id": "b937c0ff",
   "metadata": {},
   "outputs": [],
   "source": [
    "def preprocess_image(img_path):\n",
    "    img = Image.open(img_path)\n",
    "    img = img.resize((512, 512))\n",
    "    img = np.asarray(img)\n",
    "    img = np.expand_dims(img, axis=0)\n",
    "    img = inception_v3.preprocess_input(img)\n",
    "    return img"
   ]
  },
  {
   "cell_type": "code",
   "execution_count": null,
   "id": "9300ed1c",
   "metadata": {},
   "outputs": [],
   "source": []
  },
  {
   "cell_type": "code",
   "execution_count": null,
   "id": "39673e61",
   "metadata": {},
   "outputs": [],
   "source": []
  },
  {
   "cell_type": "code",
   "execution_count": null,
   "id": "277fa500",
   "metadata": {},
   "outputs": [],
   "source": [
    "which_model = 'universal'\n",
    "\n",
    "if which_model == 'diagnosis_only':\n",
    "    model = '/path/to/pretrained/models/7pt_F_diag_T_mgmt_F_exported.h5'\n",
    "elif which_model == 'universal':\n",
    "    model = '/path/to/pretrained/models/7pt_T_diag_T_mgmt_T_exported.h5'\n",
    "else:\n",
    "    raise NotImplementedError"
   ]
  },
  {
   "cell_type": "code",
   "execution_count": null,
   "id": "ff5398fa",
   "metadata": {},
   "outputs": [],
   "source": [
    "classifier = load_model(model)\n",
    "classifier.trainable = False\n",
    "\n",
    "# 0 for test and 1 for train phase\n",
    "print(K.learning_phase()) "
   ]
  },
  {
   "cell_type": "code",
   "execution_count": null,
   "id": "6d80f2f7",
   "metadata": {},
   "outputs": [],
   "source": []
  },
  {
   "cell_type": "code",
   "execution_count": null,
   "id": "0a047939",
   "metadata": {},
   "outputs": [],
   "source": []
  },
  {
   "cell_type": "code",
   "execution_count": null,
   "id": "4792467b",
   "metadata": {},
   "outputs": [],
   "source": [
    "# Choose clinic or derm\n",
    "which_modality = 'clinic'"
   ]
  },
  {
   "cell_type": "code",
   "execution_count": null,
   "id": "d4c7f092",
   "metadata": {},
   "outputs": [],
   "source": [
    "if which_modality == 'clinic':\n",
    "    derm_img = np.zeros((1, 512, 512, 3))\n",
    "elif which_modality == 'derm':\n",
    "    clinic_img = np.zeros((1, 512, 512, 3))\n",
    "else:\n",
    "    raise NotImplementedError\n",
    "    \n",
    "meta = np.zeros((1, 1, 1, 14))\n",
    "aux_input_derm = np.zeros((1, 14, 14, 14))\n",
    "aux_input_clinic = np.zeros((1, 14, 14, 14))"
   ]
  },
  {
   "cell_type": "code",
   "execution_count": null,
   "id": "3d540b0d",
   "metadata": {},
   "outputs": [],
   "source": [
    "if which_modality == 'clinic':\n",
    "    my_model = tf.keras.Model(classifier.input, classifier.get_layer('vis_out_clinic').output)\n",
    "elif which_modality == 'derm':\n",
    "    my_model = tf.keras.Model(classifier.input, classifier.get_layer('vis_out_derm').output)"
   ]
  },
  {
   "cell_type": "code",
   "execution_count": null,
   "id": "05b261ac",
   "metadata": {},
   "outputs": [],
   "source": []
  },
  {
   "cell_type": "code",
   "execution_count": null,
   "id": "8a58d4e7",
   "metadata": {},
   "outputs": [],
   "source": []
  },
  {
   "cell_type": "code",
   "execution_count": null,
   "id": "861366b3",
   "metadata": {},
   "outputs": [],
   "source": [
    "for idx in range(len(dataframe)):\n",
    "    \n",
    "    img_path = os.path.join(image_dir, dataframe.loc[idx, which_modality])\n",
    "    img = preprocess_image(img_path)\n",
    "\n",
    "    if which_modality == 'clinic':\n",
    "        clinic_img = img\n",
    "    elif which_modality == 'derm':\n",
    "        derm_img = img\n",
    "        \n",
    "    feature = my_model({'input_1_derm':derm_img, 'input_2_clinic':clinic_img, 'aux_input':meta, 'aux_input_derm':aux_input_derm, 'aux_input_clinic':aux_input_clinic}, training=False)\n",
    "    \n",
    "    if idx == 0:\n",
    "        features_all = feature.numpy().squeeze()\n",
    "    else:\n",
    "        features_all = np.vstack((features_all, feature.numpy().squeeze()))\n",
    "        \n",
    "    print(idx+1, '/', len(dataframe))"
   ]
  },
  {
   "cell_type": "code",
   "execution_count": null,
   "id": "fadb5869",
   "metadata": {},
   "outputs": [],
   "source": [
    "save_dir = '/path/to/the/features/folder/'\n",
    "\n",
    "np.save(os.path.join(save_dir, 'features_univ_clinic_val.npy'), features_all)"
   ]
  },
  {
   "cell_type": "code",
   "execution_count": null,
   "id": "252b230f",
   "metadata": {},
   "outputs": [],
   "source": []
  },
  {
   "cell_type": "code",
   "execution_count": null,
   "id": "ba968eef",
   "metadata": {},
   "outputs": [],
   "source": []
  }
 ],
 "metadata": {
  "kernelspec": {
   "display_name": "Python 3",
   "language": "python",
   "name": "python3"
  },
  "language_info": {
   "codemirror_mode": {
    "name": "ipython",
    "version": 3
   },
   "file_extension": ".py",
   "mimetype": "text/x-python",
   "name": "python",
   "nbconvert_exporter": "python",
   "pygments_lexer": "ipython3",
   "version": "3.7.10"
  }
 },
 "nbformat": 4,
 "nbformat_minor": 5
}
