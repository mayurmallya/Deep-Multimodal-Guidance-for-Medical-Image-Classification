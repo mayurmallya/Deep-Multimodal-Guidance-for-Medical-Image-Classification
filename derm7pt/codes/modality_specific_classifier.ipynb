{
 "cells": [
  {
   "cell_type": "code",
   "execution_count": null,
   "id": "32f43232",
   "metadata": {},
   "outputs": [],
   "source": [
    "import os\n",
    "import numpy as np\n",
    "import pandas as pd\n",
    "import matplotlib.pyplot as plt\n",
    "from PIL import Image\n",
    "from sklearn import metrics\n",
    "import json\n",
    "\n",
    "import tensorflow as tf\n",
    "import tensorflow.keras\n",
    "from tensorflow.keras.models import load_model\n",
    "from tensorflow.keras.preprocessing import image\n",
    "from tensorflow.keras.applications import inception_v3\n",
    "from tensorflow.keras import backend as K"
   ]
  },
  {
   "cell_type": "code",
   "execution_count": null,
   "id": "e95ea28b",
   "metadata": {},
   "outputs": [],
   "source": [
    "image_dir = '/path/to/image/folder/'\n",
    "train_labels = pd.read_csv('/path/to/label/folder/train_data_new.csv')\n",
    "val_labels = pd.read_csv('/path/to/label/folder/val_data_new.csv')\n",
    "test_labels = pd.read_csv('/path/to/label/folder/test_data_new.csv')"
   ]
  },
  {
   "cell_type": "code",
   "execution_count": null,
   "id": "8376b92c",
   "metadata": {},
   "outputs": [],
   "source": [
    "dataframe = test_labels"
   ]
  },
  {
   "cell_type": "code",
   "execution_count": null,
   "id": "0b908c0f",
   "metadata": {},
   "outputs": [],
   "source": [
    "def preprocess_image(img_path):\n",
    "    img = Image.open(img_path)\n",
    "    img = img.resize((512, 512))\n",
    "    img = np.asarray(img)\n",
    "    img = np.expand_dims(img, axis=0)\n",
    "    img = inception_v3.preprocess_input(img)\n",
    "    return img"
   ]
  },
  {
   "cell_type": "code",
   "execution_count": null,
   "id": "a91569b6",
   "metadata": {},
   "outputs": [],
   "source": [
    "tf.config.list_physical_devices('GPU')"
   ]
  },
  {
   "cell_type": "code",
   "execution_count": null,
   "id": "a8b227d8",
   "metadata": {},
   "outputs": [],
   "source": []
  },
  {
   "cell_type": "code",
   "execution_count": null,
   "id": "23ff813c",
   "metadata": {},
   "outputs": [],
   "source": []
  },
  {
   "cell_type": "code",
   "execution_count": null,
   "id": "224e0358",
   "metadata": {},
   "outputs": [],
   "source": [
    "which_model = 'universal'\n",
    "\n",
    "if which_model == 'diagnosis_only':\n",
    "    model = '/path/to/pretrained/models/7pt_F_diag_T_mgmt_F_exported.h5'\n",
    "elif which_model == 'universal':\n",
    "    model = '/path/to/pretrained/models/7pt_T_diag_T_mgmt_T_exported.h5'\n",
    "else:\n",
    "    raise NotImplementedError"
   ]
  },
  {
   "cell_type": "code",
   "execution_count": null,
   "id": "92ed3a2b",
   "metadata": {},
   "outputs": [],
   "source": [
    "classifier = load_model(model)\n",
    "classifier.trainable = False\n",
    "print(K.learning_phase())"
   ]
  },
  {
   "cell_type": "code",
   "execution_count": null,
   "id": "ff41544c",
   "metadata": {},
   "outputs": [],
   "source": []
  },
  {
   "cell_type": "code",
   "execution_count": null,
   "id": "9762f46a",
   "metadata": {},
   "outputs": [],
   "source": []
  },
  {
   "cell_type": "code",
   "execution_count": null,
   "id": "b4ecdaa4",
   "metadata": {},
   "outputs": [],
   "source": [
    "# Choose the modality-specific classifier: clinic or derm\n",
    "which_modality = 'clinic'"
   ]
  },
  {
   "cell_type": "code",
   "execution_count": null,
   "id": "e3a2039c",
   "metadata": {},
   "outputs": [],
   "source": [
    "if which_modality == 'clinic':\n",
    "    derm_img = np.zeros((1, 512, 512, 3))\n",
    "elif which_modality == 'derm':\n",
    "    clinic_img = np.zeros((1, 512, 512, 3))\n",
    "else:\n",
    "    raise NotImplementedError\n",
    "    \n",
    "meta = np.zeros((1, 1, 1, 14))\n",
    "aux_input_derm = np.zeros((1, 14, 14, 14))\n",
    "aux_input_clinic = np.zeros((1, 14, 14, 14))"
   ]
  },
  {
   "cell_type": "code",
   "execution_count": null,
   "id": "34a0512e",
   "metadata": {},
   "outputs": [],
   "source": [
    "label_dict_diagnosis = {'BCC':0, 'NEV':1, 'MEL':2, 'MISC':3, 'SK':4}\n",
    "label_dict_pn = {'ABS':0, 'TYP':1, 'ATP':2}\n",
    "label_dict_bwv = {'ABS':0, 'PRS':1}\n",
    "label_dict_vs = {'ABS':0, 'REG':1, 'IR':2}\n",
    "label_dict_pig = {'ABS':0, 'REG':1, 'IR':2}\n",
    "label_dict_str = {'ABS':0, 'REG':1, 'IR':2}\n",
    "label_dict_dag = {'ABS':0, 'REG':1, 'IR':2}\n",
    "label_dict_rs = {'ABS':0, 'PRS':1}"
   ]
  },
  {
   "cell_type": "code",
   "execution_count": null,
   "id": "6e43c7ab",
   "metadata": {},
   "outputs": [],
   "source": [
    "if which_modality == 'clinic':\n",
    "    my_model_diagnosis = tf.keras.Model(classifier.input, classifier.get_layer('DIAG_clinic').output)\n",
    "    my_model_pn = tf.keras.Model(classifier.input, classifier.get_layer('PN_clinic').output)\n",
    "    my_model_bwv = tf.keras.Model(classifier.input, classifier.get_layer('BWV_clinic').output)\n",
    "    my_model_vs = tf.keras.Model(classifier.input, classifier.get_layer('VS_clinic').output)\n",
    "    my_model_pig = tf.keras.Model(classifier.input, classifier.get_layer('PIG_clinic').output)\n",
    "    my_model_str = tf.keras.Model(classifier.input, classifier.get_layer('STR_clinic').output)\n",
    "    my_model_dag = tf.keras.Model(classifier.input, classifier.get_layer('DaG_clinic').output)\n",
    "    my_model_rs = tf.keras.Model(classifier.input, classifier.get_layer('RS_clinic').output)\n",
    "elif which_modality == 'derm':\n",
    "    my_model_diagnosis = tf.keras.Model(classifier.input, classifier.get_layer('DIAG_derm').output)\n",
    "    my_model_pn = tf.keras.Model(classifier.input, classifier.get_layer('PN_derm').output)\n",
    "    my_model_bwv = tf.keras.Model(classifier.input, classifier.get_layer('BWV_derm').output)\n",
    "    my_model_vs = tf.keras.Model(classifier.input, classifier.get_layer('VS_derm').output)\n",
    "    my_model_pig = tf.keras.Model(classifier.input, classifier.get_layer('PIG_derm').output)\n",
    "    my_model_str = tf.keras.Model(classifier.input, classifier.get_layer('STR_derm').output)\n",
    "    my_model_dag = tf.keras.Model(classifier.input, classifier.get_layer('DaG_derm').output)\n",
    "    my_model_rs = tf.keras.Model(classifier.input, classifier.get_layer('RS_derm').output)"
   ]
  },
  {
   "cell_type": "code",
   "execution_count": null,
   "id": "9360a18d",
   "metadata": {},
   "outputs": [],
   "source": []
  },
  {
   "cell_type": "code",
   "execution_count": null,
   "id": "87222a8b",
   "metadata": {},
   "outputs": [],
   "source": []
  },
  {
   "cell_type": "code",
   "execution_count": null,
   "id": "4e05f477",
   "metadata": {},
   "outputs": [],
   "source": [
    "gts_diagnosis, gts_pn, gts_bwv, gts_vs, gts_pig, gts_str, gts_dag, gts_rs = ([] for i in range(8))\n",
    "preds_diagnosis, preds_pn, preds_bwv, preds_vs, preds_pig, preds_str, preds_dag, preds_rs = ([] for i in range(8))"
   ]
  },
  {
   "cell_type": "code",
   "execution_count": null,
   "id": "bdce3929",
   "metadata": {},
   "outputs": [],
   "source": [
    "for idx in range(len(dataframe)):\n",
    "    \n",
    "    img_path = os.path.join(image_dir, dataframe.loc[idx, which_modality])\n",
    "    img = preprocess_image(img_path)\n",
    "    \n",
    "    gt_diagnosis = label_dict_diagnosis[dataframe.loc[idx, 'diagnosis']]\n",
    "    gt_pn = label_dict_pn[dataframe.loc[idx, 'pigment_network']]\n",
    "    gt_bwv = label_dict_bwv[dataframe.loc[idx, 'blue_whitish_veil']]\n",
    "    gt_vs = label_dict_vs[dataframe.loc[idx, 'vascular_structures']]\n",
    "    gt_pig = label_dict_pig[dataframe.loc[idx, 'pigmentation']]\n",
    "    gt_str = label_dict_str[dataframe.loc[idx, 'streaks']]\n",
    "    gt_dag = label_dict_dag[dataframe.loc[idx, 'dots_and_globules']]\n",
    "    gt_rs = label_dict_rs[dataframe.loc[idx, 'regression_structures']]\n",
    "\n",
    "    gts_diagnosis.append(gt_diagnosis)\n",
    "    gts_pn.append(gt_pn)\n",
    "    gts_bwv.append(gt_bwv)\n",
    "    gts_vs.append(gt_vs)\n",
    "    gts_pig.append(gt_pig)\n",
    "    gts_str.append(gt_str)\n",
    "    gts_dag.append(gt_dag)\n",
    "    gts_rs.append(gt_rs)\n",
    "    \n",
    "    if which_modality == 'clinic':\n",
    "        clinic_img = img\n",
    "    elif which_modality == 'derm':\n",
    "        derm_img = img\n",
    "        \n",
    "    soft_pred_diagnosis = my_model_diagnosis.predict({'input_1_derm':derm_img, 'input_2_clinic':clinic_img, 'aux_input':meta, 'aux_input_derm':aux_input_derm, 'aux_input_clinic':aux_input_clinic})\n",
    "    soft_pred_pn = my_model_pn.predict({'input_1_derm':derm_img, 'input_2_clinic':clinic_img, 'aux_input':meta, 'aux_input_derm':aux_input_derm, 'aux_input_clinic':aux_input_clinic})\n",
    "    soft_pred_bwv = my_model_bwv.predict({'input_1_derm':derm_img, 'input_2_clinic':clinic_img, 'aux_input':meta, 'aux_input_derm':aux_input_derm, 'aux_input_clinic':aux_input_clinic})\n",
    "    soft_pred_vs = my_model_vs.predict({'input_1_derm':derm_img, 'input_2_clinic':clinic_img, 'aux_input':meta, 'aux_input_derm':aux_input_derm, 'aux_input_clinic':aux_input_clinic})\n",
    "    soft_pred_pig = my_model_pig.predict({'input_1_derm':derm_img, 'input_2_clinic':clinic_img, 'aux_input':meta, 'aux_input_derm':aux_input_derm, 'aux_input_clinic':aux_input_clinic})\n",
    "    soft_pred_str = my_model_str.predict({'input_1_derm':derm_img, 'input_2_clinic':clinic_img, 'aux_input':meta, 'aux_input_derm':aux_input_derm, 'aux_input_clinic':aux_input_clinic})\n",
    "    soft_pred_dag = my_model_dag.predict({'input_1_derm':derm_img, 'input_2_clinic':clinic_img, 'aux_input':meta, 'aux_input_derm':aux_input_derm, 'aux_input_clinic':aux_input_clinic})\n",
    "    soft_pred_rs = my_model_rs.predict({'input_1_derm':derm_img, 'input_2_clinic':clinic_img, 'aux_input':meta, 'aux_input_derm':aux_input_derm, 'aux_input_clinic':aux_input_clinic})\n",
    "\n",
    "    pred_diagnosis = tf.math.argmax(soft_pred_diagnosis, axis=-1)\n",
    "    pred_pn = tf.math.argmax(soft_pred_pn, axis=-1)\n",
    "    pred_bwv = tf.math.argmax(soft_pred_bwv, axis=-1)\n",
    "    pred_vs = tf.math.argmax(soft_pred_vs, axis=-1)\n",
    "    pred_pig = tf.math.argmax(soft_pred_pig, axis=-1)\n",
    "    pred_str = tf.math.argmax(soft_pred_str, axis=-1)\n",
    "    pred_dag = tf.math.argmax(soft_pred_dag, axis=-1)\n",
    "    pred_rs = tf.math.argmax(soft_pred_rs, axis=-1)\n",
    "\n",
    "    preds_diagnosis.append(pred_diagnosis.numpy().item())\n",
    "    preds_pn.append(pred_pn.numpy().item())\n",
    "    preds_bwv.append(pred_bwv.numpy().item())\n",
    "    preds_vs.append(pred_vs.numpy().item())\n",
    "    preds_pig.append(pred_pig.numpy().item())\n",
    "    preds_str.append(pred_str.numpy().item())\n",
    "    preds_dag.append(pred_dag.numpy().item())\n",
    "    preds_rs.append(pred_rs.numpy().item())\n",
    "    \n",
    "    print(idx, '/', len(dataframe))"
   ]
  },
  {
   "cell_type": "code",
   "execution_count": null,
   "id": "c5ead4e3",
   "metadata": {},
   "outputs": [],
   "source": [
    "balacc_diagnosis = metrics.balanced_accuracy_score(gts_diagnosis, preds_diagnosis)\n",
    "balacc_pn = metrics.balanced_accuracy_score(gts_pn, preds_pn)\n",
    "balacc_bwv = metrics.balanced_accuracy_score(gts_bwv, preds_bwv)\n",
    "balacc_vs = metrics.balanced_accuracy_score(gts_vs, preds_vs)\n",
    "balacc_pig = metrics.balanced_accuracy_score(gts_pig, preds_pig)\n",
    "balacc_str = metrics.balanced_accuracy_score(gts_str, preds_str)\n",
    "balacc_dag = metrics.balanced_accuracy_score(gts_dag, preds_dag)\n",
    "balacc_rs = metrics.balanced_accuracy_score(gts_rs, preds_rs)\n",
    "\n",
    "print('balacc_diagnosis = ', balacc_diagnosis)\n",
    "print('balacc_pn = ', balacc_pn)\n",
    "print('balacc_bwv = ', balacc_bwv)\n",
    "print('balacc_vs = ', balacc_vs)\n",
    "print('balacc_pig = ', balacc_pig)\n",
    "print('balacc_str = ', balacc_str)\n",
    "print('balacc_dag = ', balacc_dag)\n",
    "print('balacc_rs = ', balacc_rs)"
   ]
  },
  {
   "cell_type": "code",
   "execution_count": null,
   "id": "1f46673e",
   "metadata": {},
   "outputs": [],
   "source": []
  },
  {
   "cell_type": "code",
   "execution_count": null,
   "id": "87bc4d73",
   "metadata": {},
   "outputs": [],
   "source": []
  }
 ],
 "metadata": {
  "kernelspec": {
   "display_name": "Python 3",
   "language": "python",
   "name": "python3"
  },
  "language_info": {
   "codemirror_mode": {
    "name": "ipython",
    "version": 3
   },
   "file_extension": ".py",
   "mimetype": "text/x-python",
   "name": "python",
   "nbconvert_exporter": "python",
   "pygments_lexer": "ipython3",
   "version": "3.7.10"
  }
 },
 "nbformat": 4,
 "nbformat_minor": 5
}
