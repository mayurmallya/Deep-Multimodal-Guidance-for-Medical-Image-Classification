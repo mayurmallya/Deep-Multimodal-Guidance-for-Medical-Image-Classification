{
 "cells": [
  {
   "cell_type": "code",
   "execution_count": null,
   "id": "500a89c8",
   "metadata": {},
   "outputs": [],
   "source": [
    "import os\n",
    "import numpy as np\n",
    "import pandas as pd\n",
    "import matplotlib.pyplot as plt\n",
    "from PIL import Image\n",
    "from sklearn import metrics\n",
    "\n",
    "import tensorflow as tf\n",
    "import tensorflow.keras\n",
    "from tensorflow.keras.models import load_model\n",
    "from tensorflow.keras.preprocessing import image\n",
    "from tensorflow.keras.applications import inception_v3\n",
    "from tensorflow.keras import backend as K"
   ]
  },
  {
   "cell_type": "code",
   "execution_count": null,
   "id": "f8a3c281",
   "metadata": {},
   "outputs": [],
   "source": [
    "image_dir = '/path/to/image/folder/'\n",
    "train_labels = pd.read_csv('/path/to/label/folder/train_data_new.csv')\n",
    "val_labels = pd.read_csv('/path/to/label/folder/val_data_new.csv')\n",
    "test_labels = pd.read_csv('/path/to/label/folder/test_data_new.csv')"
   ]
  },
  {
   "cell_type": "code",
   "execution_count": null,
   "id": "db0d520d",
   "metadata": {},
   "outputs": [],
   "source": [
    "print(len(train_labels), len(val_labels), len(test_labels))"
   ]
  },
  {
   "cell_type": "code",
   "execution_count": null,
   "id": "6031b352",
   "metadata": {},
   "outputs": [],
   "source": [
    "def preprocess_image(img_path):\n",
    "    img = Image.open(img_path)\n",
    "    img = img.resize((512, 512))\n",
    "    img = np.asarray(img)\n",
    "    img = np.expand_dims(img, axis=0)\n",
    "    img = inception_v3.preprocess_input(img)\n",
    "    return img"
   ]
  },
  {
   "cell_type": "code",
   "execution_count": null,
   "id": "52cc2d9c",
   "metadata": {},
   "outputs": [],
   "source": [
    "tf.config.list_physical_devices('GPU')"
   ]
  },
  {
   "cell_type": "code",
   "execution_count": null,
   "id": "9aa2a111",
   "metadata": {},
   "outputs": [],
   "source": []
  },
  {
   "cell_type": "code",
   "execution_count": null,
   "id": "b9c306bd",
   "metadata": {},
   "outputs": [],
   "source": []
  },
  {
   "cell_type": "code",
   "execution_count": null,
   "id": "cc0f8f43",
   "metadata": {},
   "outputs": [],
   "source": [
    "which_model = 'universal'\n",
    "\n",
    "if which_model == 'diagnosis_only':\n",
    "    model = '/path/to/pretrained/models/7pt_F_diag_T_mgmt_F_exported.h5'\n",
    "elif which_model == 'universal':\n",
    "    model = '/path/to/pretrained/models/7pt_T_diag_T_mgmt_T_exported.h5'\n",
    "else:\n",
    "    raise NotImplementedError"
   ]
  },
  {
   "cell_type": "code",
   "execution_count": null,
   "id": "62189f86",
   "metadata": {},
   "outputs": [],
   "source": [
    "classifier = load_model(model)\n",
    "classifier.trainable = False\n",
    "print(K.learning_phase()) "
   ]
  },
  {
   "cell_type": "code",
   "execution_count": null,
   "id": "e4499e5e",
   "metadata": {},
   "outputs": [],
   "source": []
  },
  {
   "cell_type": "code",
   "execution_count": null,
   "id": "c51c22be",
   "metadata": {},
   "outputs": [],
   "source": []
  },
  {
   "cell_type": "code",
   "execution_count": null,
   "id": "591e34f7",
   "metadata": {},
   "outputs": [],
   "source": [
    "meta = np.zeros((1, 1, 1, 14))\n",
    "aux_input_derm = np.zeros((1, 14, 14, 14))\n",
    "aux_input_clinic = np.zeros((1, 14, 14, 14))"
   ]
  },
  {
   "cell_type": "code",
   "execution_count": null,
   "id": "d2af330c",
   "metadata": {},
   "outputs": [],
   "source": [
    "label_dict_diagnosis = {'BCC':0, 'NEV':1, 'MEL':2, 'MISC':3, 'SK':4}\n",
    "label_dict_pn = {'ABS':0, 'TYP':1, 'ATP':2}\n",
    "label_dict_bwv = {'ABS':0, 'PRS':1}\n",
    "label_dict_vs = {'ABS':0, 'REG':1, 'IR':2}\n",
    "label_dict_pig = {'ABS':0, 'REG':1, 'IR':2}\n",
    "label_dict_str = {'ABS':0, 'REG':1, 'IR':2}\n",
    "label_dict_dag = {'ABS':0, 'REG':1, 'IR':2}\n",
    "label_dict_rs = {'ABS':0, 'PRS':1}"
   ]
  },
  {
   "cell_type": "code",
   "execution_count": null,
   "id": "eae60c20",
   "metadata": {},
   "outputs": [],
   "source": [
    "my_model_diagnosis = tf.keras.Model(classifier.input, classifier.get_layer('DIAG').output)\n",
    "my_model_pn = tf.keras.Model(classifier.input, classifier.get_layer('PN').output)\n",
    "my_model_bwv = tf.keras.Model(classifier.input, classifier.get_layer('BWV').output)\n",
    "my_model_vs = tf.keras.Model(classifier.input, classifier.get_layer('VS').output)\n",
    "my_model_pig = tf.keras.Model(classifier.input, classifier.get_layer('PIG').output)\n",
    "my_model_str = tf.keras.Model(classifier.input, classifier.get_layer('STR').output)\n",
    "my_model_dag = tf.keras.Model(classifier.input, classifier.get_layer('DaG').output)\n",
    "my_model_rs = tf.keras.Model(classifier.input, classifier.get_layer('RS').output)"
   ]
  },
  {
   "cell_type": "code",
   "execution_count": null,
   "id": "cabf95d5",
   "metadata": {},
   "outputs": [],
   "source": []
  },
  {
   "cell_type": "code",
   "execution_count": null,
   "id": "3cd855ed",
   "metadata": {},
   "outputs": [],
   "source": []
  },
  {
   "cell_type": "code",
   "execution_count": null,
   "id": "33928807",
   "metadata": {},
   "outputs": [],
   "source": [
    "gts_diagnosis, gts_pn, gts_bwv, gts_vs, gts_pig, gts_str, gts_dag, gts_rs = ([] for i in range(8))\n",
    "preds_diagnosis, preds_pn, preds_bwv, preds_vs, preds_pig, preds_str, preds_dag, preds_rs = ([] for i in range(8))"
   ]
  },
  {
   "cell_type": "code",
   "execution_count": null,
   "id": "6356df00",
   "metadata": {},
   "outputs": [],
   "source": [
    "dataframe = test_labels"
   ]
  },
  {
   "cell_type": "code",
   "execution_count": null,
   "id": "775cc99b",
   "metadata": {},
   "outputs": [],
   "source": [
    "for idx in range(len(dataframe)):\n",
    "    \n",
    "    clinic_img = preprocess_image(os.path.join(image_dir, dataframe.loc[idx, 'clinic']))\n",
    "    derm_img = preprocess_image(os.path.join(image_dir, dataframe.loc[idx, 'derm']))\n",
    "\n",
    "    gt_diagnosis = label_dict_diagnosis[dataframe.loc[idx, 'diagnosis']]\n",
    "    gt_pn = label_dict_pn[dataframe.loc[idx, 'pigment_network']]\n",
    "    gt_bwv = label_dict_bwv[dataframe.loc[idx, 'blue_whitish_veil']]\n",
    "    gt_vs = label_dict_vs[dataframe.loc[idx, 'vascular_structures']]\n",
    "    gt_pig = label_dict_pig[dataframe.loc[idx, 'pigmentation']]\n",
    "    gt_str = label_dict_str[dataframe.loc[idx, 'streaks']]\n",
    "    gt_dag = label_dict_dag[dataframe.loc[idx, 'dots_and_globules']]\n",
    "    gt_rs = label_dict_rs[dataframe.loc[idx, 'regression_structures']]\n",
    "\n",
    "    gts_diagnosis.append(gt_diagnosis)\n",
    "    gts_pn.append(gt_pn)\n",
    "    gts_bwv.append(gt_bwv)\n",
    "    gts_vs.append(gt_vs)\n",
    "    gts_pig.append(gt_pig)\n",
    "    gts_str.append(gt_str)\n",
    "    gts_dag.append(gt_dag)\n",
    "    gts_rs.append(gt_rs)\n",
    "        \n",
    "    soft_pred_diagnosis = my_model_diagnosis.predict({'input_1_derm':derm_img, 'input_2_clinic':clinic_img, 'aux_input':meta, 'aux_input_derm':aux_input_derm, 'aux_input_clinic':aux_input_clinic})\n",
    "    soft_pred_pn = my_model_pn.predict({'input_1_derm':derm_img, 'input_2_clinic':clinic_img, 'aux_input':meta, 'aux_input_derm':aux_input_derm, 'aux_input_clinic':aux_input_clinic})\n",
    "    soft_pred_bwv = my_model_bwv.predict({'input_1_derm':derm_img, 'input_2_clinic':clinic_img, 'aux_input':meta, 'aux_input_derm':aux_input_derm, 'aux_input_clinic':aux_input_clinic})\n",
    "    soft_pred_vs = my_model_vs.predict({'input_1_derm':derm_img, 'input_2_clinic':clinic_img, 'aux_input':meta, 'aux_input_derm':aux_input_derm, 'aux_input_clinic':aux_input_clinic})\n",
    "    soft_pred_pig = my_model_pig.predict({'input_1_derm':derm_img, 'input_2_clinic':clinic_img, 'aux_input':meta, 'aux_input_derm':aux_input_derm, 'aux_input_clinic':aux_input_clinic})\n",
    "    soft_pred_str = my_model_str.predict({'input_1_derm':derm_img, 'input_2_clinic':clinic_img, 'aux_input':meta, 'aux_input_derm':aux_input_derm, 'aux_input_clinic':aux_input_clinic})\n",
    "    soft_pred_dag = my_model_dag.predict({'input_1_derm':derm_img, 'input_2_clinic':clinic_img, 'aux_input':meta, 'aux_input_derm':aux_input_derm, 'aux_input_clinic':aux_input_clinic})\n",
    "    soft_pred_rs = my_model_rs.predict({'input_1_derm':derm_img, 'input_2_clinic':clinic_img, 'aux_input':meta, 'aux_input_derm':aux_input_derm, 'aux_input_clinic':aux_input_clinic})\n",
    "\n",
    "    pred_diagnosis = tf.math.argmax(soft_pred_diagnosis, axis=-1)\n",
    "    pred_pn = tf.math.argmax(soft_pred_pn, axis=-1)\n",
    "    pred_bwv = tf.math.argmax(soft_pred_bwv, axis=-1)\n",
    "    pred_vs = tf.math.argmax(soft_pred_vs, axis=-1)\n",
    "    pred_pig = tf.math.argmax(soft_pred_pig, axis=-1)\n",
    "    pred_str = tf.math.argmax(soft_pred_str, axis=-1)\n",
    "    pred_dag = tf.math.argmax(soft_pred_dag, axis=-1)\n",
    "    pred_rs = tf.math.argmax(soft_pred_rs, axis=-1)\n",
    "\n",
    "    preds_diagnosis.append(pred_diagnosis.numpy().item())\n",
    "    preds_pn.append(pred_pn.numpy().item())\n",
    "    preds_bwv.append(pred_bwv.numpy().item())\n",
    "    preds_vs.append(pred_vs.numpy().item())\n",
    "    preds_pig.append(pred_pig.numpy().item())\n",
    "    preds_str.append(pred_str.numpy().item())\n",
    "    preds_dag.append(pred_dag.numpy().item())\n",
    "    preds_rs.append(pred_rs.numpy().item())"
   ]
  },
  {
   "cell_type": "code",
   "execution_count": null,
   "id": "2fc5c910",
   "metadata": {},
   "outputs": [],
   "source": [
    "balacc_diagnosis = metrics.balanced_accuracy_score(gts_diagnosis, preds_diagnosis)\n",
    "balacc_pn = metrics.balanced_accuracy_score(gts_pn, preds_pn)\n",
    "balacc_bwv = metrics.balanced_accuracy_score(gts_bwv, preds_bwv)\n",
    "balacc_vs = metrics.balanced_accuracy_score(gts_vs, preds_vs)\n",
    "balacc_pig = metrics.balanced_accuracy_score(gts_pig, preds_pig)\n",
    "balacc_str = metrics.balanced_accuracy_score(gts_str, preds_str)\n",
    "balacc_dag = metrics.balanced_accuracy_score(gts_dag, preds_dag)\n",
    "balacc_rs = metrics.balanced_accuracy_score(gts_rs, preds_rs)\n",
    "\n",
    "print('balacc_diagnosis = ', balacc_diagnosis)\n",
    "print('balacc_pn = ', balacc_pn)\n",
    "print('balacc_bwv = ', balacc_bwv)\n",
    "print('balacc_vs = ', balacc_vs)\n",
    "print('balacc_pig = ', balacc_pig)\n",
    "print('balacc_str = ', balacc_str)\n",
    "print('balacc_dag = ', balacc_dag)\n",
    "print('balacc_rs = ', balacc_rs)"
   ]
  },
  {
   "cell_type": "code",
   "execution_count": null,
   "id": "dc2eed28",
   "metadata": {},
   "outputs": [],
   "source": []
  },
  {
   "cell_type": "code",
   "execution_count": null,
   "id": "8793de7a",
   "metadata": {},
   "outputs": [],
   "source": []
  }
 ],
 "metadata": {
  "kernelspec": {
   "display_name": "Python 3",
   "language": "python",
   "name": "python3"
  },
  "language_info": {
   "codemirror_mode": {
    "name": "ipython",
    "version": 3
   },
   "file_extension": ".py",
   "mimetype": "text/x-python",
   "name": "python",
   "nbconvert_exporter": "python",
   "pygments_lexer": "ipython3",
   "version": "3.7.10"
  }
 },
 "nbformat": 4,
 "nbformat_minor": 5
}
