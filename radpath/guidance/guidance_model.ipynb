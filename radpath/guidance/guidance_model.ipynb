{
 "cells": [
  {
   "cell_type": "code",
   "execution_count": null,
   "id": "d45de96f",
   "metadata": {},
   "outputs": [],
   "source": [
    "import os\n",
    "import numpy as np\n",
    "import matplotlib.pyplot as plt\n",
    "\n",
    "import torch\n",
    "import torch.nn as nn\n",
    "import torch.nn.functional as F\n",
    "from torch.utils.data import Dataset, DataLoader\n",
    "import torchvision.transforms as transforms"
   ]
  },
  {
   "cell_type": "code",
   "execution_count": null,
   "id": "c885e4de",
   "metadata": {},
   "outputs": [],
   "source": [
    "device = torch.device(\"cuda\" if torch.cuda.is_available() else \"cpu\")\n",
    "print(device)"
   ]
  },
  {
   "cell_type": "code",
   "execution_count": 1,
   "id": "a7a93db7",
   "metadata": {},
   "outputs": [],
   "source": [
    "path_folder = '/path/to/path/folder'\n",
    "rad_folder = '/path/to/rad/folder/'"
   ]
  },
  {
   "cell_type": "code",
   "execution_count": null,
   "id": "54856b2e",
   "metadata": {},
   "outputs": [],
   "source": [
    "# Modality ['t1', 't2', 't1ce', 'flair']\n",
    "modality = 'flair'\n",
    "\n",
    "# Fold \n",
    "fold = 1"
   ]
  },
  {
   "cell_type": "code",
   "execution_count": null,
   "id": "3285bd25",
   "metadata": {},
   "outputs": [],
   "source": []
  },
  {
   "cell_type": "code",
   "execution_count": null,
   "id": "6b29b721",
   "metadata": {},
   "outputs": [],
   "source": []
  },
  {
   "cell_type": "code",
   "execution_count": null,
   "id": "5f2d3c26",
   "metadata": {},
   "outputs": [],
   "source": [
    "class GuidanceModule_dataset(Dataset):\n",
    "    def __init__(self, path_features, rad_features, modality, fold, datasplit):\n",
    "        self.path_array = np.load(os.path.join(path_features, datasplit+'_'+str(fold)+'.npy'))\n",
    "        self.rad_array = np.load(os.path.join(rad_features, modality, str(fold), datasplit+'_'+str(fold)+'_'+modality+'.npy'))\n",
    "        \n",
    "    def __len__(self):\n",
    "        assert len(self.path_array) == len(self.rad_array)\n",
    "        return len(self.path_array)\n",
    "    \n",
    "    def __getitem__(self, idx):\n",
    "        p = self.path_array[idx]\n",
    "        r = self.rad_array[idx]\n",
    "        data = {'path':p, 'rad':r}\n",
    "        return data         "
   ]
  },
  {
   "cell_type": "code",
   "execution_count": null,
   "id": "1c532a07",
   "metadata": {},
   "outputs": [],
   "source": [
    "train_set = GuidanceModule_dataset(path_folder, rad_folder, modality, fold, 'train')\n",
    "val_set = GuidanceModule_dataset(path_folder, rad_folder, modality, fold, 'val')\n",
    "test_set = GuidanceModule_dataset(path_folder, rad_folder, modality, fold, 'test')"
   ]
  },
  {
   "cell_type": "code",
   "execution_count": null,
   "id": "94d599f6",
   "metadata": {},
   "outputs": [],
   "source": [
    "train_loader = DataLoader(train_set, batch_size=50, shuffle=True)\n",
    "val_loader = DataLoader(val_set, batch_size=30, shuffle=False)\n",
    "test_loader = DataLoader(test_set, batch_size=30, shuffle=False)"
   ]
  },
  {
   "cell_type": "code",
   "execution_count": null,
   "id": "5b880c6e",
   "metadata": {},
   "outputs": [],
   "source": [
    "class GuidanceModule_architecture(nn.Module):\n",
    "    def __init__(self):\n",
    "        super(GuidanceModule_architecture, self).__init__()\n",
    "        \n",
    "        self.e1 = nn.Linear(in_features=1024, out_features=512)\n",
    "        self.e2 = nn.Linear(in_features=512, out_features=256)\n",
    "        \n",
    "        self.d1 = nn.Linear(in_features=256, out_features=256)\n",
    "        self.d2 = nn.Linear(in_features=256, out_features=512)\n",
    "        \n",
    "        self.dropout = nn.Dropout(0.25)\n",
    "        \n",
    "    def forward(self, x):\n",
    "        x = F.relu(self.e1(x))\n",
    "        x = self.dropout(x)\n",
    "        x = F.relu(self.e2(x))\n",
    "        x = self.dropout(x)\n",
    "        \n",
    "        x = F.relu(self.d1(x))\n",
    "        x = self.dropout(x)\n",
    "        x = F.relu(self.d2(x))\n",
    "        return x\n",
    "    \n",
    "# Model initialize\n",
    "model = GuidanceModule_architecture()\n",
    "model.to(device)\n",
    "# print(model)"
   ]
  },
  {
   "cell_type": "code",
   "execution_count": null,
   "id": "11b04644",
   "metadata": {},
   "outputs": [],
   "source": [
    "# Loss, optimizer, etc\n",
    "\n",
    "criterion = nn.MSELoss(reduction='mean')\n",
    "optimizer = torch.optim.SGD(model.parameters(), lr=0.5, momentum=0.9, weight_decay=1e-6, nesterov=True)"
   ]
  },
  {
   "cell_type": "code",
   "execution_count": null,
   "id": "02559433",
   "metadata": {},
   "outputs": [],
   "source": [
    "# train loop\n",
    "\n",
    "train_loss = []\n",
    "val_loss = []\n",
    "epochs = 150\n",
    "\n",
    "for epoch in range(epochs):\n",
    "    running_train_loss = 0.0\n",
    "    model.train()\n",
    "    for data in train_loader:\n",
    "        p, r = data['path'], data['rad']\n",
    "        p, r = p.to(device), r.to(device)\n",
    "        optimizer.zero_grad()\n",
    "        pred_p = model(r)\n",
    "        loss_train = criterion(pred_p, p)\n",
    "        loss_train.backward()\n",
    "        optimizer.step()\n",
    "        running_train_loss += loss_train.item()\n",
    "        \n",
    "    loss_train_avg = running_train_loss/len(train_loader)\n",
    "    train_loss.append(loss_train_avg)\n",
    "    print('Epoch {} of {}, Train Loss: {:.3f}'.format(epoch+1, epochs, loss_train_avg))\n",
    "    \n",
    "    running_val_loss = 0.0\n",
    "    model.eval()\n",
    "    with torch.no_grad():\n",
    "        for data in val_loader:\n",
    "            p, r = data['path'], data['rad']\n",
    "            p, r = p.to(device), r.to(device)\n",
    "            pred_p = model(r)\n",
    "            loss_val = criterion(pred_p, p)\n",
    "            running_val_loss += loss_val.item()\n",
    "            \n",
    "        loss_val_avg = running_val_loss/len(val_loader)\n",
    "        val_loss.append(loss_val_avg)"
   ]
  },
  {
   "cell_type": "code",
   "execution_count": null,
   "id": "d5e35a5a",
   "metadata": {},
   "outputs": [],
   "source": [
    "# Testing the network reconstruction\n",
    "\n",
    "test_loss = []\n",
    "running_test_loss = 0.0\n",
    "model.eval()\n",
    "with torch.no_grad():\n",
    "    for data in test_loader:\n",
    "        p, r = data['path'], data['rad']\n",
    "        p, r = p.to(device), r.to(device)\n",
    "        pred_p = model(r)\n",
    "        loss_test = criterion(pred_p, p)\n",
    "        running_test_loss += loss_test.item()\n",
    "\n",
    "    loss_test_avg = running_test_loss/len(test_loader)\n",
    "    test_loss.append(loss_test_avg)"
   ]
  },
  {
   "cell_type": "code",
   "execution_count": null,
   "id": "e531a6ff",
   "metadata": {},
   "outputs": [],
   "source": [
    "plt.plot(train_loss, label='train_loss')\n",
    "plt.plot(val_loss, label='val_loss')\n",
    "plt.plot(epochs, test_loss, 'go', ms=5, label='test_loss')\n",
    "plt.axvline(x=epochs, color='g', linewidth=1)\n",
    "plt.legend()\n",
    "plt.grid(linewidth=.5, linestyle='-')\n",
    "\n",
    "# Saving the figure\n",
    "fig_path = '/path/to/results/'\n",
    "plt.savefig(os.path.join(fig_path, modality, modality+'_'+str(fold)+'.png'))"
   ]
  },
  {
   "cell_type": "code",
   "execution_count": null,
   "id": "f6b3c346",
   "metadata": {},
   "outputs": [],
   "source": [
    "# Saving the model\n",
    "\n",
    "save_dir = '/path/to/results/'\n",
    "torch.save(model.state_dict(), os.path.join(save_dir, modality, modality+'_'+str(fold)+'.pt'))"
   ]
  },
  {
   "cell_type": "code",
   "execution_count": null,
   "id": "f9fe152d",
   "metadata": {},
   "outputs": [],
   "source": []
  },
  {
   "cell_type": "code",
   "execution_count": null,
   "id": "bfc2c8de",
   "metadata": {},
   "outputs": [],
   "source": []
  },
  {
   "cell_type": "code",
   "execution_count": null,
   "id": "6ce98e91",
   "metadata": {},
   "outputs": [],
   "source": []
  }
 ],
 "metadata": {
  "kernelspec": {
   "display_name": "Python 3",
   "language": "python",
   "name": "python3"
  },
  "language_info": {
   "codemirror_mode": {
    "name": "ipython",
    "version": 3
   },
   "file_extension": ".py",
   "mimetype": "text/x-python",
   "name": "python",
   "nbconvert_exporter": "python",
   "pygments_lexer": "ipython3",
   "version": "3.7.10"
  }
 },
 "nbformat": 4,
 "nbformat_minor": 5
}
