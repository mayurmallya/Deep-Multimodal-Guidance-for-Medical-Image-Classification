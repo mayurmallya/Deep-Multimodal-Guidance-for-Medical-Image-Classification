{
 "cells": [
  {
   "cell_type": "code",
   "execution_count": null,
   "id": "46391989",
   "metadata": {},
   "outputs": [],
   "source": [
    "import os\n",
    "import numpy as np\n",
    "import pandas as pd\n",
    "from sklearn import metrics\n",
    "from collections import OrderedDict\n",
    "\n",
    "import torch"
   ]
  },
  {
   "cell_type": "code",
   "execution_count": null,
   "id": "ea6a2356",
   "metadata": {},
   "outputs": [],
   "source": [
    "from datasets.dataset_generic import Generic_MIL_Dataset\n",
    "from utils.utils import get_split_loader, print_network\n",
    "from models.model_clam import CLAM_SB"
   ]
  },
  {
   "cell_type": "code",
   "execution_count": null,
   "id": "a24ceca2",
   "metadata": {},
   "outputs": [],
   "source": []
  },
  {
   "cell_type": "code",
   "execution_count": null,
   "id": "031d991a",
   "metadata": {},
   "outputs": [],
   "source": [
    "device = torch.device(\"cuda\" if torch.cuda.is_available() else \"cpu\")\n",
    "print(device)"
   ]
  },
  {
   "cell_type": "code",
   "execution_count": 1,
   "id": "2f7f6112",
   "metadata": {},
   "outputs": [],
   "source": [
    "data = '/path/to/data'\n",
    "models = '/path/to/model/'\n",
    "labels = '/path/to/label'"
   ]
  },
  {
   "cell_type": "code",
   "execution_count": null,
   "id": "6fb31fdf",
   "metadata": {},
   "outputs": [],
   "source": []
  },
  {
   "cell_type": "code",
   "execution_count": null,
   "id": "96937536",
   "metadata": {},
   "outputs": [],
   "source": [
    "dataset = Generic_MIL_Dataset(csv_path = 'dataset_csv/training_data_full.csv',\n",
    "                            data_dir = data,\n",
    "                            shuffle = False,\n",
    "                            seed = 1,\n",
    "                            print_info = True,\n",
    "                            label_dict = {'G':0, 'O':1, 'A':2},\n",
    "                            patient_strat = False,\n",
    "                            ignore = [])"
   ]
  },
  {
   "cell_type": "code",
   "execution_count": null,
   "id": "72fcd58c",
   "metadata": {},
   "outputs": [],
   "source": [
    "model_dict = {'n_classes':3, 'size_arg':'small', 'k_sample':25}\n",
    "instance_loss_fn = torch.nn.CrossEntropyLoss()\n",
    "model = CLAM_SB(**model_dict, instance_loss_fn=instance_loss_fn)"
   ]
  },
  {
   "cell_type": "code",
   "execution_count": null,
   "id": "21cbfbe0",
   "metadata": {},
   "outputs": [],
   "source": [
    "device_ids = list(range(torch.cuda.device_count()))\n",
    "\n",
    "model.attention_net = torch.nn.DataParallel(model.attention_net, device_ids=device_ids).to('cuda:0')\n",
    "model.classifiers = model.classifiers.to(device)\n",
    "model.instance_classifiers = model.instance_classifiers.to(device)"
   ]
  },
  {
   "cell_type": "code",
   "execution_count": null,
   "id": "cb0e7b23",
   "metadata": {},
   "outputs": [],
   "source": []
  },
  {
   "cell_type": "code",
   "execution_count": null,
   "id": "cac68cbb",
   "metadata": {},
   "outputs": [],
   "source": []
  },
  {
   "cell_type": "code",
   "execution_count": null,
   "id": "e9a9f865",
   "metadata": {},
   "outputs": [],
   "source": [
    "fold = 1\n",
    "\n",
    "# Loader\n",
    "train_dataset, val_dataset, test_dataset = dataset.return_splits(from_id=False, \n",
    "                                    csv_path='/path/to/labels')\n",
    "train_loader = get_split_loader(train_dataset)\n",
    "val_loader = get_split_loader(val_dataset)\n",
    "test_loader = get_split_loader(test_dataset)\n",
    "\n",
    "loader = train_loader"
   ]
  },
  {
   "cell_type": "code",
   "execution_count": null,
   "id": "d9b3bf3b",
   "metadata": {},
   "outputs": [],
   "source": []
  },
  {
   "cell_type": "code",
   "execution_count": null,
   "id": "cb14ce09",
   "metadata": {},
   "outputs": [],
   "source": [
    "a = torch.load(os.path.join(models, 's_{}_checkpoint.pt'.format(fold)))"
   ]
  },
  {
   "cell_type": "code",
   "execution_count": null,
   "id": "1d23d587",
   "metadata": {},
   "outputs": [],
   "source": [
    "new_a = OrderedDict()\n",
    "\n",
    "for k, v in a.items():\n",
    "    if 'module.3.attention' in k:\n",
    "        k = k.replace('module.3', 'module.2')\n",
    "    new_a[k] = v\n",
    "    \n",
    "model.load_state_dict(new_a)"
   ]
  },
  {
   "cell_type": "code",
   "execution_count": null,
   "id": "0c2b7685",
   "metadata": {},
   "outputs": [],
   "source": [
    "slide_ids = loader.dataset.slide_data['slide_id']\n",
    "\n",
    "gts = []\n",
    "preds = []\n",
    "feats = []\n",
    "\n",
    "model.eval()\n",
    "for batch_idx, (data, label) in enumerate(loader):\n",
    "    \n",
    "    slide_id = slide_ids.iloc[batch_idx]\n",
    "    print(slide_id)\n",
    "    \n",
    "    data, label = data.to(device), label.to(device)\n",
    "    with torch.no_grad():\n",
    "        logits, Y_prob, Y_hat, A, results_dict = model.forward(data, return_features=True)\n",
    "        preds.append(Y_hat.item())\n",
    "        gts.append(label.item())\n",
    "        feats.append(results_dict['features'].cpu().numpy().squeeze())"
   ]
  },
  {
   "cell_type": "code",
   "execution_count": null,
   "id": "68db02a9",
   "metadata": {},
   "outputs": [],
   "source": [
    "savedir = '/path/to/results'\n",
    "\n",
    "feature_array = np.array(feats)\n",
    "np.save(os.path.join(savedir, datasplit+'_'+str(fold)+'.npy'), feature_array)"
   ]
  },
  {
   "cell_type": "code",
   "execution_count": null,
   "id": "8d3c56b4",
   "metadata": {},
   "outputs": [],
   "source": []
  },
  {
   "cell_type": "code",
   "execution_count": null,
   "id": "4f65dcd1",
   "metadata": {},
   "outputs": [],
   "source": []
  },
  {
   "cell_type": "code",
   "execution_count": null,
   "id": "16938021",
   "metadata": {},
   "outputs": [],
   "source": []
  },
  {
   "cell_type": "code",
   "execution_count": null,
   "id": "20c34adc",
   "metadata": {},
   "outputs": [],
   "source": []
  },
  {
   "cell_type": "code",
   "execution_count": null,
   "id": "04ce21a9",
   "metadata": {},
   "outputs": [],
   "source": []
  },
  {
   "cell_type": "code",
   "execution_count": null,
   "id": "0b0f717a",
   "metadata": {},
   "outputs": [],
   "source": []
  },
  {
   "cell_type": "code",
   "execution_count": null,
   "id": "917c7098",
   "metadata": {},
   "outputs": [],
   "source": []
  },
  {
   "cell_type": "code",
   "execution_count": null,
   "id": "bc4badac",
   "metadata": {},
   "outputs": [],
   "source": []
  },
  {
   "cell_type": "code",
   "execution_count": null,
   "id": "9b870614",
   "metadata": {},
   "outputs": [],
   "source": []
  },
  {
   "cell_type": "code",
   "execution_count": null,
   "id": "8acdf538",
   "metadata": {},
   "outputs": [],
   "source": []
  },
  {
   "cell_type": "code",
   "execution_count": null,
   "id": "c97d5c5a",
   "metadata": {},
   "outputs": [],
   "source": []
  },
  {
   "cell_type": "code",
   "execution_count": null,
   "id": "c10e31ca",
   "metadata": {},
   "outputs": [],
   "source": []
  },
  {
   "cell_type": "code",
   "execution_count": null,
   "id": "82366627",
   "metadata": {},
   "outputs": [],
   "source": []
  },
  {
   "cell_type": "code",
   "execution_count": null,
   "id": "87e33887",
   "metadata": {},
   "outputs": [],
   "source": []
  },
  {
   "cell_type": "code",
   "execution_count": null,
   "id": "2a4a48b0",
   "metadata": {},
   "outputs": [],
   "source": []
  },
  {
   "cell_type": "code",
   "execution_count": null,
   "id": "e169470f",
   "metadata": {},
   "outputs": [],
   "source": []
  },
  {
   "cell_type": "code",
   "execution_count": null,
   "id": "28811d1b",
   "metadata": {},
   "outputs": [],
   "source": []
  }
 ],
 "metadata": {
  "kernelspec": {
   "display_name": "Python 3",
   "language": "python",
   "name": "python3"
  },
  "language_info": {
   "codemirror_mode": {
    "name": "ipython",
    "version": 3
   },
   "file_extension": ".py",
   "mimetype": "text/x-python",
   "name": "python",
   "nbconvert_exporter": "python",
   "pygments_lexer": "ipython3",
   "version": "3.7.10"
  }
 },
 "nbformat": 4,
 "nbformat_minor": 5
}
