{
 "cells": [
  {
   "cell_type": "code",
   "execution_count": null,
   "id": "57a2f989",
   "metadata": {},
   "outputs": [],
   "source": [
    "import os\n",
    "import numpy as np\n",
    "import pandas as pd\n",
    "from sklearn import metrics\n",
    "\n",
    "import torch\n",
    "import torch.nn as nn\n",
    "\n",
    "import monai\n",
    "from monai.networks.nets import DenseNet121\n",
    "\n",
    "from utilities import metrics_all\n",
    "from data_feature_extraction import data_create_feature_extraction"
   ]
  },
  {
   "cell_type": "code",
   "execution_count": null,
   "id": "65f4ac80",
   "metadata": {},
   "outputs": [],
   "source": [
    "device = torch.device(\"cuda\" if torch.cuda.is_available() else \"cpu\")\n",
    "print(device)"
   ]
  },
  {
   "cell_type": "code",
   "execution_count": 1,
   "id": "03269cdf",
   "metadata": {},
   "outputs": [],
   "source": [
    "data = '/path/to/data/folder'\n",
    "models = '/path/to/model/folder'\n",
    "labels = '/path/to/label/folder'"
   ]
  },
  {
   "cell_type": "code",
   "execution_count": null,
   "id": "5285ff3f",
   "metadata": {},
   "outputs": [],
   "source": [
    "# Modality ['t1','t2', 't1ce', 'flair']\n",
    "modality = 'flair'\n",
    "\n",
    "# Fold \n",
    "fold = 1\n",
    "\n",
    "# Loader \n",
    "train_loader, val_loader, test_loader = data_create_feature_extraction(data_root=data, label_root=labels, batch_size=1, fold=fold, modality=modality)\n",
    "loader = train_loader"
   ]
  },
  {
   "cell_type": "code",
   "execution_count": null,
   "id": "7b9e11c2",
   "metadata": {},
   "outputs": [],
   "source": [
    "modality_path = os.path.join(models, modality)"
   ]
  },
  {
   "cell_type": "code",
   "execution_count": null,
   "id": "a9bcc6b0",
   "metadata": {},
   "outputs": [],
   "source": []
  },
  {
   "cell_type": "code",
   "execution_count": null,
   "id": "bf6cf3d6",
   "metadata": {},
   "outputs": [],
   "source": []
  },
  {
   "cell_type": "code",
   "execution_count": null,
   "id": "f67d4ed7",
   "metadata": {},
   "outputs": [],
   "source": [
    "model = DenseNet121(spatial_dims=3, in_channels=1, out_channels=3)"
   ]
  },
  {
   "cell_type": "code",
   "execution_count": null,
   "id": "ad7cb6e7",
   "metadata": {},
   "outputs": [],
   "source": [
    "model.load_state_dict(torch.load(os.path.join(modality_path, 'fold_{}_checkpoint.pt'.format(fold))))\n",
    "model.to(device)"
   ]
  },
  {
   "cell_type": "code",
   "execution_count": null,
   "id": "0fab2376",
   "metadata": {},
   "outputs": [],
   "source": [
    "# setting the hooks for feature extraction\n",
    "\n",
    "def get_features(name):\n",
    "    def hook(model, input, output):\n",
    "        features[name] = output.detach()\n",
    "    return hook"
   ]
  },
  {
   "cell_type": "code",
   "execution_count": null,
   "id": "0376466d",
   "metadata": {},
   "outputs": [],
   "source": [
    "model.class_layers.flatten.register_forward_hook(get_features('features'))"
   ]
  },
  {
   "cell_type": "code",
   "execution_count": null,
   "id": "860ca92c",
   "metadata": {},
   "outputs": [],
   "source": [
    "# Feature extraction\n",
    "\n",
    "features = {}\n",
    "preds = []\n",
    "feats = []\n",
    "\n",
    "model.eval()\n",
    "\n",
    "for m in model.modules():\n",
    "    if isinstance(m, nn.BatchNorm3d):\n",
    "        m.track_running_stats=False\n",
    "\n",
    "with torch.no_grad():\n",
    "    for i, data in enumerate(loader):\n",
    "        images_test, labels_test, radpath_id = data['image'], data['gt'], data['radpath_ID']\n",
    "        images_test, labels_test = images_test.to(device), labels_test.to(device)\n",
    "        pred_test = model(images_test)\n",
    "        prediction = torch.argmax(pred_test, 1)\n",
    "        preds.append(prediction.item())\n",
    "        feats.append(features['features'].cpu().numpy().squeeze())\n",
    "        print(i, radpath_id)"
   ]
  },
  {
   "cell_type": "code",
   "execution_count": null,
   "id": "a465e91b",
   "metadata": {},
   "outputs": [],
   "source": [
    "savedir = '/path/to/result/folder'\n",
    "a = np.array(feats)\n",
    "np.save(os.path.join(savedir, datasplit+'_'+str(fold)+'_'+modality+'.npy'), a)"
   ]
  },
  {
   "cell_type": "code",
   "execution_count": null,
   "id": "0dc9d4ca",
   "metadata": {},
   "outputs": [],
   "source": []
  },
  {
   "cell_type": "code",
   "execution_count": null,
   "id": "191f8a04",
   "metadata": {},
   "outputs": [],
   "source": []
  }
 ],
 "metadata": {
  "kernelspec": {
   "display_name": "Python 3",
   "language": "python",
   "name": "python3"
  },
  "language_info": {
   "codemirror_mode": {
    "name": "ipython",
    "version": 3
   },
   "file_extension": ".py",
   "mimetype": "text/x-python",
   "name": "python",
   "nbconvert_exporter": "python",
   "pygments_lexer": "ipython3",
   "version": "3.7.10"
  }
 },
 "nbformat": 4,
 "nbformat_minor": 5
}
